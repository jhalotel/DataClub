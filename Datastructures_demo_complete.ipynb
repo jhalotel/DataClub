{
 "cells": [
  {
   "cell_type": "markdown",
   "metadata": {},
   "source": [
    "# Datastructures in Python - an introduction"
   ]
  },
  {
   "cell_type": "markdown",
   "metadata": {},
   "source": [
    "Start by importing the necessary packages"
   ]
  },
  {
   "cell_type": "code",
   "execution_count": 1,
   "metadata": {},
   "outputs": [],
   "source": [
    "import numpy as np\n",
    "import pandas as pd\n",
    "import segyio\n",
    "from matplotlib import pyplot as plt"
   ]
  },
  {
   "cell_type": "markdown",
   "metadata": {},
   "source": [
    "### Datastructure #1 - Python lists"
   ]
  },
  {
   "cell_type": "markdown",
   "metadata": {},
   "source": [
    "Different ways of creating a simple list of numbers"
   ]
  },
  {
   "cell_type": "code",
   "execution_count": 2,
   "metadata": {},
   "outputs": [
    {
     "name": "stdout",
     "output_type": "stream",
     "text": [
      "[1, 2, 3, 4, 5, 6, 7, 8, 9, 10]\n",
      "[1, 2, 3, 4, 5, 6, 7, 8, 9, 10]\n"
     ]
    }
   ],
   "source": [
    "mylist = [1,2,3,4,5,6,7,8,9,10]\n",
    "mylist2 = list(range(1,11))\n",
    "print(mylist)\n",
    "print(mylist2)"
   ]
  },
  {
   "cell_type": "markdown",
   "metadata": {},
   "source": [
    "A list can consist of different datatypes (string, integers, floats, another datastructure etc)"
   ]
  },
  {
   "cell_type": "code",
   "execution_count": 3,
   "metadata": {},
   "outputs": [
    {
     "name": "stdout",
     "output_type": "stream",
     "text": [
      "['Hello', 'Everyone', 1, 2, 3, 1.2131, 'Nice']\n"
     ]
    }
   ],
   "source": [
    "mylist = ['Hello', 'Everyone', 1, 2, 3, 1.2131, 'Nice']\n",
    "print(mylist)"
   ]
  },
  {
   "cell_type": "markdown",
   "metadata": {},
   "source": [
    "Access and modify the content of a list"
   ]
  },
  {
   "cell_type": "code",
   "execution_count": 4,
   "metadata": {},
   "outputs": [
    {
     "data": {
      "text/plain": [
       "'Hello'"
      ]
     },
     "execution_count": 4,
     "metadata": {},
     "output_type": "execute_result"
    }
   ],
   "source": [
    "mylist[0] # first element"
   ]
  },
  {
   "cell_type": "code",
   "execution_count": 5,
   "metadata": {},
   "outputs": [
    {
     "data": {
      "text/plain": [
       "'Nice'"
      ]
     },
     "execution_count": 5,
     "metadata": {},
     "output_type": "execute_result"
    }
   ],
   "source": [
    "mylist[-1] # last element"
   ]
  },
  {
   "cell_type": "code",
   "execution_count": 6,
   "metadata": {},
   "outputs": [
    {
     "data": {
      "text/plain": [
       "['Hello', 'Everyone']"
      ]
     },
     "execution_count": 6,
     "metadata": {},
     "output_type": "execute_result"
    }
   ],
   "source": [
    "mylist[0:2] # first two elements"
   ]
  },
  {
   "cell_type": "code",
   "execution_count": 7,
   "metadata": {},
   "outputs": [
    {
     "data": {
      "text/plain": [
       "[2, 3, 1.2131, 'Nice']"
      ]
     },
     "execution_count": 7,
     "metadata": {},
     "output_type": "execute_result"
    }
   ],
   "source": [
    "mylist[3:] # from fourth to the end"
   ]
  },
  {
   "cell_type": "code",
   "execution_count": 8,
   "metadata": {},
   "outputs": [
    {
     "name": "stdout",
     "output_type": "stream",
     "text": [
      "['Hello', 'Everyone', 1, 2, 3, 1.2131, 'Nice', 'Add something']\n"
     ]
    }
   ],
   "source": [
    "mylist.append('Add something') # Add to the end of your list\n",
    "print(mylist)"
   ]
  },
  {
   "cell_type": "code",
   "execution_count": 9,
   "metadata": {},
   "outputs": [
    {
     "name": "stdout",
     "output_type": "stream",
     "text": [
      "['Hello', 10, 'Everyone', 1, 2, 3, 1.2131, 'Nice', 'Add something']\n"
     ]
    }
   ],
   "source": [
    "mylist.insert(1, 10) # Add to position 1 in your list\n",
    "print(mylist)"
   ]
  },
  {
   "cell_type": "code",
   "execution_count": 10,
   "metadata": {},
   "outputs": [
    {
     "name": "stdout",
     "output_type": "stream",
     "text": [
      "['Hello', 'Everyone', 1, 2, 3, 1.2131, 'Nice', 'Add something']\n"
     ]
    }
   ],
   "source": [
    "mylist.remove(10) # Remove the number 10 from your list\n",
    "print(mylist)"
   ]
  },
  {
   "cell_type": "code",
   "execution_count": 11,
   "metadata": {},
   "outputs": [
    {
     "name": "stdout",
     "output_type": "stream",
     "text": [
      "['Hello', 'Everyone', 1, 2, 3, 1.2131, 'Nice', 'Add something', 'Hello', 'Everyone', 1, 2, 3, 1.2131, 'Nice', 'Add something']\n"
     ]
    }
   ],
   "source": [
    "mylist = mylist * 2 # Multiply by 2 -> replicates the list\n",
    "print(mylist)"
   ]
  },
  {
   "cell_type": "code",
   "execution_count": 12,
   "metadata": {},
   "outputs": [
    {
     "name": "stdout",
     "output_type": "stream",
     "text": [
      "['Hello', 'Everyone', 1, 2, 3, 1.2131, 'Nice', 'Add something', 'Hello', 'Everyone', 1, 2, 3, 1.2131, 'Nice', 'Add something', 'Does this work?']\n"
     ]
    }
   ],
   "source": [
    "mylist = mylist + ['Does this work?'] # This also adds at the end of your list\n",
    "print(mylist)"
   ]
  },
  {
   "cell_type": "markdown",
   "metadata": {},
   "source": [
    "Lists within a list"
   ]
  },
  {
   "cell_type": "code",
   "execution_count": 13,
   "metadata": {},
   "outputs": [],
   "source": [
    "mylist2 = [mylist, ['This', 'Is', 'A', 'Separate','list']] # You can put another list within your list (listception)"
   ]
  },
  {
   "cell_type": "code",
   "execution_count": 14,
   "metadata": {},
   "outputs": [
    {
     "name": "stdout",
     "output_type": "stream",
     "text": [
      "['Hello', 'Everyone', 1, 2, 3, 1.2131, 'Nice', 'Add something', 'Hello', 'Everyone', 1, 2, 3, 1.2131, 'Nice', 'Add something', 'Does this work?']\n",
      "['This', 'Is', 'A', 'Separate', 'list']\n"
     ]
    }
   ],
   "source": [
    "print(mylist2[0])\n",
    "print(mylist2[1])"
   ]
  },
  {
   "cell_type": "markdown",
   "metadata": {},
   "source": [
    "### Datastructure #2 - numpy arrays"
   ]
  },
  {
   "cell_type": "code",
   "execution_count": 15,
   "metadata": {},
   "outputs": [
    {
     "name": "stdout",
     "output_type": "stream",
     "text": [
      "[1 2 3]\n"
     ]
    }
   ],
   "source": [
    "myarray1 = np.array([1,2,3]) # Simple way of creating a numpy array\n",
    "print(myarray1)"
   ]
  },
  {
   "cell_type": "code",
   "execution_count": 16,
   "metadata": {},
   "outputs": [
    {
     "name": "stdout",
     "output_type": "stream",
     "text": [
      "[1 2 3]\n"
     ]
    }
   ],
   "source": [
    "myarray1 = np.arange(1,4) # An even simpler way\n",
    "print(myarray1)"
   ]
  },
  {
   "cell_type": "code",
   "execution_count": 17,
   "metadata": {},
   "outputs": [
    {
     "name": "stdout",
     "output_type": "stream",
     "text": [
      "[[[0. 0. 0. 0.]\n",
      "  [0. 0. 0. 0.]\n",
      "  [0. 0. 0. 0.]]\n",
      "\n",
      " [[0. 0. 0. 0.]\n",
      "  [0. 0. 0. 0.]\n",
      "  [0. 0. 0. 0.]]]\n"
     ]
    }
   ],
   "source": [
    "array_zeros = np.zeros((2,3,4))  # Creating multidimensional array of zeros (also works with ones)\n",
    "print(array_zeros)"
   ]
  },
  {
   "cell_type": "code",
   "execution_count": 18,
   "metadata": {},
   "outputs": [
    {
     "name": "stdout",
     "output_type": "stream",
     "text": [
      "[[[1 1 1 1]\n",
      "  [1 1 1 1]\n",
      "  [1 1 1 1]]\n",
      "\n",
      " [[1 1 1 1]\n",
      "  [1 1 1 1]\n",
      "  [1 1 1 1]]]\n"
     ]
    }
   ],
   "source": [
    "array_zeros = np.ones((2,3,4)).astype(int)  # Using 'astype' you can decide the datatype - here integers makes most sense\n",
    "print(array_zeros)"
   ]
  },
  {
   "cell_type": "code",
   "execution_count": 19,
   "metadata": {},
   "outputs": [
    {
     "data": {
      "text/plain": [
       "(2, 3, 4)"
      ]
     },
     "execution_count": 19,
     "metadata": {},
     "output_type": "execute_result"
    }
   ],
   "source": [
    "array_zeros.shape # Useful to check the shape of your array"
   ]
  },
  {
   "cell_type": "markdown",
   "metadata": {},
   "source": [
    "Creating an arrays from a list"
   ]
  },
  {
   "cell_type": "code",
   "execution_count": 20,
   "metadata": {},
   "outputs": [
    {
     "name": "stdout",
     "output_type": "stream",
     "text": [
      "[1.02 2.3  3.   4.  ]\n"
     ]
    }
   ],
   "source": [
    "mylist3 = [1.02,2.3,3,4] \n",
    "arr = np.array(mylist3) # Create from a list (will convert to same datatype if there are different datatypes present)\n",
    "print(arr)"
   ]
  },
  {
   "cell_type": "code",
   "execution_count": 21,
   "metadata": {},
   "outputs": [
    {
     "name": "stdout",
     "output_type": "stream",
     "text": [
      "['Hello', 'Everyone', 1, 2, 3, 1.2131, 'Nice']\n",
      "['Hello' 'Everyone' '1' '2' '3' '1.2131' 'Nice']\n"
     ]
    }
   ],
   "source": [
    "mylist = ['Hello', 'Everyone', 1, 2, 3, 1.2131, 'Nice']\n",
    "print(mylist)\n",
    "arr = np.array(mylist) # Create from list with different datatypes (notice that all values are converted to string)\n",
    "print(arr)"
   ]
  },
  {
   "cell_type": "code",
   "execution_count": 22,
   "metadata": {},
   "outputs": [
    {
     "name": "stdout",
     "output_type": "stream",
     "text": [
      "[0 1 2 3 4 5 6 7 8 9]\n"
     ]
    }
   ],
   "source": [
    "arr = np.arange(10) # Similar to list(range(10)))\n",
    "print(arr) "
   ]
  },
  {
   "cell_type": "markdown",
   "metadata": {},
   "source": [
    "A way of creating an array of linearly spaced values"
   ]
  },
  {
   "cell_type": "code",
   "execution_count": 23,
   "metadata": {},
   "outputs": [
    {
     "name": "stdout",
     "output_type": "stream",
     "text": [
      "[ 0.          0.20408163  0.40816327  0.6122449   0.81632653  1.02040816\n",
      "  1.2244898   1.42857143  1.63265306  1.83673469  2.04081633  2.24489796\n",
      "  2.44897959  2.65306122  2.85714286  3.06122449  3.26530612  3.46938776\n",
      "  3.67346939  3.87755102  4.08163265  4.28571429  4.48979592  4.69387755\n",
      "  4.89795918  5.10204082  5.30612245  5.51020408  5.71428571  5.91836735\n",
      "  6.12244898  6.32653061  6.53061224  6.73469388  6.93877551  7.14285714\n",
      "  7.34693878  7.55102041  7.75510204  7.95918367  8.16326531  8.36734694\n",
      "  8.57142857  8.7755102   8.97959184  9.18367347  9.3877551   9.59183673\n",
      "  9.79591837 10.        ]\n"
     ]
    }
   ],
   "source": [
    "myarr = np.linspace(0,10,50) # Create array in range 0 to 10 with 50 numbers\n",
    "print(myarr)"
   ]
  },
  {
   "cell_type": "code",
   "execution_count": 24,
   "metadata": {},
   "outputs": [
    {
     "data": {
      "text/plain": [
       "array([10.        ,  9.79591837,  9.59183673,  9.3877551 ,  9.18367347,\n",
       "        8.97959184,  8.7755102 ,  8.57142857,  8.36734694,  8.16326531,\n",
       "        7.95918367,  7.75510204,  7.55102041,  7.34693878,  7.14285714,\n",
       "        6.93877551,  6.73469388,  6.53061224,  6.32653061,  6.12244898,\n",
       "        5.91836735,  5.71428571,  5.51020408,  5.30612245,  5.10204082,\n",
       "        4.89795918,  4.69387755,  4.48979592,  4.28571429,  4.08163265,\n",
       "        3.87755102,  3.67346939,  3.46938776,  3.26530612,  3.06122449,\n",
       "        2.85714286,  2.65306122,  2.44897959,  2.24489796,  2.04081633,\n",
       "        1.83673469,  1.63265306,  1.42857143,  1.2244898 ,  1.02040816,\n",
       "        0.81632653,  0.6122449 ,  0.40816327,  0.20408163,  0.        ])"
      ]
     },
     "execution_count": 24,
     "metadata": {},
     "output_type": "execute_result"
    }
   ],
   "source": [
    "np.sort(-myarr)*-1 # Maybe there is an easier way of sorting in descending order?"
   ]
  },
  {
   "cell_type": "markdown",
   "metadata": {},
   "source": [
    "Slicing and modifying an array (similarly to a list)"
   ]
  },
  {
   "cell_type": "code",
   "execution_count": 25,
   "metadata": {},
   "outputs": [
    {
     "data": {
      "text/plain": [
       "array([0, 1, 2, 3, 4])"
      ]
     },
     "execution_count": 25,
     "metadata": {},
     "output_type": "execute_result"
    }
   ],
   "source": [
    "arr[:5] # First five elements"
   ]
  },
  {
   "cell_type": "code",
   "execution_count": 26,
   "metadata": {},
   "outputs": [
    {
     "name": "stdout",
     "output_type": "stream",
     "text": [
      "[100   1   2   3   4   5   6   7   8   9]\n"
     ]
    }
   ],
   "source": [
    "arr[0] = 100 # Change the first value\n",
    "print(arr)"
   ]
  },
  {
   "cell_type": "code",
   "execution_count": 27,
   "metadata": {},
   "outputs": [
    {
     "data": {
      "text/plain": [
       "array([100,   1,  25,   2,   3,   4,   5,   6,   7,   8,   9])"
      ]
     },
     "execution_count": 27,
     "metadata": {},
     "output_type": "execute_result"
    }
   ],
   "source": [
    "np.insert(arr, 2, 25) # Add the value 25 at position 3"
   ]
  },
  {
   "cell_type": "markdown",
   "metadata": {},
   "source": [
    "Simple mathematical operations"
   ]
  },
  {
   "cell_type": "code",
   "execution_count": 28,
   "metadata": {},
   "outputs": [
    {
     "name": "stdout",
     "output_type": "stream",
     "text": [
      "[100   1   2   3   4   5   6   7   8   9]\n"
     ]
    }
   ],
   "source": [
    "print(arr)"
   ]
  },
  {
   "cell_type": "code",
   "execution_count": 29,
   "metadata": {},
   "outputs": [
    {
     "data": {
      "text/plain": [
       "array([200,   2,   4,   6,   8,  10,  12,  14,  16,  18])"
      ]
     },
     "execution_count": 29,
     "metadata": {},
     "output_type": "execute_result"
    }
   ],
   "source": [
    "arr * 2"
   ]
  },
  {
   "cell_type": "code",
   "execution_count": 30,
   "metadata": {},
   "outputs": [
    {
     "data": {
      "text/plain": [
       "array([450. ,   4.5,   9. ,  13.5,  18. ,  22.5,  27. ,  31.5,  36. ,\n",
       "        40.5])"
      ]
     },
     "execution_count": 30,
     "metadata": {},
     "output_type": "execute_result"
    }
   ],
   "source": [
    "arr * 5 - arr / 2"
   ]
  },
  {
   "cell_type": "markdown",
   "metadata": {},
   "source": [
    "Seismic in python using numpy arrays from the segyio package (install with 'pip install segyio')"
   ]
  },
  {
   "cell_type": "code",
   "execution_count": 31,
   "metadata": {},
   "outputs": [],
   "source": [
    "segyfile = r'C:\\Users\\tnhe\\Documents\\DataClub\\Data structures\\IC_XL2200.sgy' # Provide the path of the file"
   ]
  },
  {
   "cell_type": "code",
   "execution_count": 32,
   "metadata": {},
   "outputs": [],
   "source": [
    "with segyio.open(segyfile, \"r\") as f: # Import the seismic amplitudes using segyio\n",
    "    Data=segyio.tools.cube(f)"
   ]
  },
  {
   "cell_type": "code",
   "execution_count": 33,
   "metadata": {},
   "outputs": [
    {
     "data": {
      "text/plain": [
       "numpy.ndarray"
      ]
     },
     "execution_count": 33,
     "metadata": {},
     "output_type": "execute_result"
    }
   ],
   "source": [
    "type(Data) # Check the datatype"
   ]
  },
  {
   "cell_type": "code",
   "execution_count": 34,
   "metadata": {},
   "outputs": [
    {
     "data": {
      "text/plain": [
       "(1, 1201, 601)"
      ]
     },
     "execution_count": 34,
     "metadata": {},
     "output_type": "execute_result"
    }
   ],
   "source": [
    "Data.shape # And shape. Here: 1 crossline with 1201 inlines and 601 depth values"
   ]
  },
  {
   "cell_type": "code",
   "execution_count": 35,
   "metadata": {},
   "outputs": [
    {
     "data": {
      "text/plain": [
       "dtype('float32')"
      ]
     },
     "execution_count": 35,
     "metadata": {},
     "output_type": "execute_result"
    }
   ],
   "source": [
    "Data.dtype # Numbers are in float32"
   ]
  },
  {
   "cell_type": "code",
   "execution_count": 36,
   "metadata": {},
   "outputs": [
    {
     "data": {
      "image/png": "[encoded data removed]",
      "text/plain": [
       "<Figure size 1080x1080 with 1 Axes>"
      ]
     },
     "metadata": {
      "needs_background": "light"
     },
     "output_type": "display_data"
    }
   ],
   "source": [
    "plt.figure(figsize=(15,15)) # A plot showing the seismic line\n",
    "plt.imshow(Data[0,:,:].T, cmap='gray');"
   ]
  },
  {
   "cell_type": "code",
   "execution_count": 37,
   "metadata": {
    "scrolled": true
   },
   "outputs": [],
   "source": [
    "myarr = np.arange(1000) # Create an 1D array with 1000 values"
   ]
  },
  {
   "cell_type": "code",
   "execution_count": 38,
   "metadata": {},
   "outputs": [],
   "source": [
    "myarr_reshape = np.reshape(myarr,(10,10,10)) # Reshape it into a 3D array"
   ]
  },
  {
   "cell_type": "code",
   "execution_count": 39,
   "metadata": {},
   "outputs": [
    {
     "data": {
      "text/plain": [
       "(10, 10, 10)"
      ]
     },
     "execution_count": 39,
     "metadata": {},
     "output_type": "execute_result"
    }
   ],
   "source": [
    "myarr_reshape.shape # Check the shape"
   ]
  },
  {
   "cell_type": "markdown",
   "metadata": {},
   "source": [
    "### Datastructure #3 - Pandas dataframes"
   ]
  },
  {
   "cell_type": "code",
   "execution_count": 40,
   "metadata": {
    "scrolled": true
   },
   "outputs": [],
   "source": [
    "welldata = pd.read_excel('DataClub_S4_Sample_Data.xlsx') # Read in the excel file (put it in same folder as notebook)"
   ]
  },
  {
   "cell_type": "code",
   "execution_count": 41,
   "metadata": {},
   "outputs": [
    {
     "data": {
      "text/html": [
       "<div>\n",
       "<style scoped>\n",
       "    .dataframe tbody tr th:only-of-type {\n",
       "        vertical-align: middle;\n",
       "    }\n",
       "\n",
       "    .dataframe tbody tr th {\n",
       "        vertical-align: top;\n",
       "    }\n",
       "\n",
       "    .dataframe thead th {\n",
       "        text-align: right;\n",
       "    }\n",
       "</style>\n",
       "<table border=\"1\" class=\"dataframe\">\n",
       "  <thead>\n",
       "    <tr style=\"text-align: right;\">\n",
       "      <th></th>\n",
       "      <th>Depth.m</th>\n",
       "      <th>GR.API</th>\n",
       "      <th>DT.us/ft</th>\n",
       "      <th>NPHI.g/cm3</th>\n",
       "    </tr>\n",
       "  </thead>\n",
       "  <tbody>\n",
       "    <tr>\n",
       "      <th>0</th>\n",
       "      <td>2347.5696</td>\n",
       "      <td>190.01521</td>\n",
       "      <td>102.28007</td>\n",
       "      <td>28.93231</td>\n",
       "    </tr>\n",
       "    <tr>\n",
       "      <th>1</th>\n",
       "      <td>2347.7220</td>\n",
       "      <td>189.83575</td>\n",
       "      <td>103.07578</td>\n",
       "      <td>30.85096</td>\n",
       "    </tr>\n",
       "    <tr>\n",
       "      <th>2</th>\n",
       "      <td>2347.8744</td>\n",
       "      <td>189.73279</td>\n",
       "      <td>103.88969</td>\n",
       "      <td>32.90793</td>\n",
       "    </tr>\n",
       "    <tr>\n",
       "      <th>3</th>\n",
       "      <td>2348.0268</td>\n",
       "      <td>189.72128</td>\n",
       "      <td>104.63711</td>\n",
       "      <td>33.57746</td>\n",
       "    </tr>\n",
       "    <tr>\n",
       "      <th>4</th>\n",
       "      <td>2348.1792</td>\n",
       "      <td>189.55658</td>\n",
       "      <td>105.26027</td>\n",
       "      <td>32.24901</td>\n",
       "    </tr>\n",
       "  </tbody>\n",
       "</table>\n",
       "</div>"
      ],
      "text/plain": [
       "     Depth.m     GR.API   DT.us/ft  NPHI.g/cm3\n",
       "0  2347.5696  190.01521  102.28007    28.93231\n",
       "1  2347.7220  189.83575  103.07578    30.85096\n",
       "2  2347.8744  189.73279  103.88969    32.90793\n",
       "3  2348.0268  189.72128  104.63711    33.57746\n",
       "4  2348.1792  189.55658  105.26027    32.24901"
      ]
     },
     "execution_count": 41,
     "metadata": {},
     "output_type": "execute_result"
    }
   ],
   "source": [
    "welldata.head() # Print the top 5 columns of the dataframe"
   ]
  },
  {
   "cell_type": "markdown",
   "metadata": {},
   "source": [
    "Extract certain rows/columns of dataframe\n",
    "1. by name of column"
   ]
  },
  {
   "cell_type": "code",
   "execution_count": 42,
   "metadata": {
    "scrolled": true
   },
   "outputs": [
    {
     "data": {
      "text/plain": [
       "0      2347.5696\n",
       "1      2347.7220\n",
       "2      2347.8744\n",
       "3      2348.0268\n",
       "4      2348.1792\n",
       "5      2348.3316\n",
       "6      2348.4840\n",
       "7      2348.6364\n",
       "8      2348.7888\n",
       "9      2348.9412\n",
       "10     2349.0936\n",
       "11     2349.2460\n",
       "12     2349.3984\n",
       "13     2349.5508\n",
       "14     2349.7032\n",
       "15     2349.8556\n",
       "16     2350.0080\n",
       "17     2350.1604\n",
       "18     2350.3128\n",
       "19     2350.4652\n",
       "20     2350.6176\n",
       "21     2350.7700\n",
       "22     2350.9224\n",
       "23     2351.0748\n",
       "24     2351.2272\n",
       "25     2351.3796\n",
       "26     2351.5320\n",
       "27     2351.6844\n",
       "28     2351.8368\n",
       "29     2351.9892\n",
       "         ...    \n",
       "83     2360.2188\n",
       "84     2360.3712\n",
       "85     2360.5236\n",
       "86     2360.6760\n",
       "87     2360.8284\n",
       "88     2360.9808\n",
       "89     2361.1332\n",
       "90     2361.2856\n",
       "91     2361.4380\n",
       "92     2361.5904\n",
       "93     2361.7428\n",
       "94     2361.8952\n",
       "95     2362.0476\n",
       "96     2362.2000\n",
       "97     2362.3524\n",
       "98     2362.5048\n",
       "99     2362.6572\n",
       "100    2362.8096\n",
       "101    2362.9620\n",
       "102    2363.1144\n",
       "103    2363.2668\n",
       "104    2363.4192\n",
       "105    2363.5716\n",
       "106    2363.7240\n",
       "107    2363.8764\n",
       "108    2364.0288\n",
       "109    2364.1812\n",
       "110    2364.3336\n",
       "111    2364.4860\n",
       "112    2364.6384\n",
       "Name: Depth.m, Length: 113, dtype: float64"
      ]
     },
     "execution_count": 42,
     "metadata": {},
     "output_type": "execute_result"
    }
   ],
   "source": [
    "welldata['Depth.m']"
   ]
  },
  {
   "cell_type": "markdown",
   "metadata": {},
   "source": [
    "2. by index of row"
   ]
  },
  {
   "cell_type": "code",
   "execution_count": 43,
   "metadata": {},
   "outputs": [
    {
     "data": {
      "text/html": [
       "<div>\n",
       "<style scoped>\n",
       "    .dataframe tbody tr th:only-of-type {\n",
       "        vertical-align: middle;\n",
       "    }\n",
       "\n",
       "    .dataframe tbody tr th {\n",
       "        vertical-align: top;\n",
       "    }\n",
       "\n",
       "    .dataframe thead th {\n",
       "        text-align: right;\n",
       "    }\n",
       "</style>\n",
       "<table border=\"1\" class=\"dataframe\">\n",
       "  <thead>\n",
       "    <tr style=\"text-align: right;\">\n",
       "      <th></th>\n",
       "      <th>Depth.m</th>\n",
       "      <th>GR.API</th>\n",
       "      <th>DT.us/ft</th>\n",
       "      <th>NPHI.g/cm3</th>\n",
       "    </tr>\n",
       "  </thead>\n",
       "  <tbody>\n",
       "    <tr>\n",
       "      <th>0</th>\n",
       "      <td>2347.5696</td>\n",
       "      <td>190.01521</td>\n",
       "      <td>102.28007</td>\n",
       "      <td>28.93231</td>\n",
       "    </tr>\n",
       "    <tr>\n",
       "      <th>1</th>\n",
       "      <td>2347.7220</td>\n",
       "      <td>189.83575</td>\n",
       "      <td>103.07578</td>\n",
       "      <td>30.85096</td>\n",
       "    </tr>\n",
       "    <tr>\n",
       "      <th>2</th>\n",
       "      <td>2347.8744</td>\n",
       "      <td>189.73279</td>\n",
       "      <td>103.88969</td>\n",
       "      <td>32.90793</td>\n",
       "    </tr>\n",
       "    <tr>\n",
       "      <th>3</th>\n",
       "      <td>2348.0268</td>\n",
       "      <td>189.72128</td>\n",
       "      <td>104.63711</td>\n",
       "      <td>33.57746</td>\n",
       "    </tr>\n",
       "    <tr>\n",
       "      <th>4</th>\n",
       "      <td>2348.1792</td>\n",
       "      <td>189.55658</td>\n",
       "      <td>105.26027</td>\n",
       "      <td>32.24901</td>\n",
       "    </tr>\n",
       "  </tbody>\n",
       "</table>\n",
       "</div>"
      ],
      "text/plain": [
       "     Depth.m     GR.API   DT.us/ft  NPHI.g/cm3\n",
       "0  2347.5696  190.01521  102.28007    28.93231\n",
       "1  2347.7220  189.83575  103.07578    30.85096\n",
       "2  2347.8744  189.73279  103.88969    32.90793\n",
       "3  2348.0268  189.72128  104.63711    33.57746\n",
       "4  2348.1792  189.55658  105.26027    32.24901"
      ]
     },
     "execution_count": 43,
     "metadata": {},
     "output_type": "execute_result"
    }
   ],
   "source": [
    "welldata.iloc[0:5]"
   ]
  },
  {
   "cell_type": "markdown",
   "metadata": {},
   "source": [
    "3. acces certain rows and colums"
   ]
  },
  {
   "cell_type": "code",
   "execution_count": 44,
   "metadata": {
    "scrolled": true
   },
   "outputs": [
    {
     "data": {
      "text/html": [
       "<div>\n",
       "<style scoped>\n",
       "    .dataframe tbody tr th:only-of-type {\n",
       "        vertical-align: middle;\n",
       "    }\n",
       "\n",
       "    .dataframe tbody tr th {\n",
       "        vertical-align: top;\n",
       "    }\n",
       "\n",
       "    .dataframe thead th {\n",
       "        text-align: right;\n",
       "    }\n",
       "</style>\n",
       "<table border=\"1\" class=\"dataframe\">\n",
       "  <thead>\n",
       "    <tr style=\"text-align: right;\">\n",
       "      <th></th>\n",
       "      <th>Depth.m</th>\n",
       "      <th>GR.API</th>\n",
       "    </tr>\n",
       "  </thead>\n",
       "  <tbody>\n",
       "    <tr>\n",
       "      <th>103</th>\n",
       "      <td>2363.2668</td>\n",
       "      <td>192.89314</td>\n",
       "    </tr>\n",
       "    <tr>\n",
       "      <th>104</th>\n",
       "      <td>2363.4192</td>\n",
       "      <td>193.35580</td>\n",
       "    </tr>\n",
       "    <tr>\n",
       "      <th>105</th>\n",
       "      <td>2363.5716</td>\n",
       "      <td>193.45839</td>\n",
       "    </tr>\n",
       "    <tr>\n",
       "      <th>106</th>\n",
       "      <td>2363.7240</td>\n",
       "      <td>192.31787</td>\n",
       "    </tr>\n",
       "    <tr>\n",
       "      <th>107</th>\n",
       "      <td>2363.8764</td>\n",
       "      <td>189.98587</td>\n",
       "    </tr>\n",
       "    <tr>\n",
       "      <th>108</th>\n",
       "      <td>2364.0288</td>\n",
       "      <td>188.28302</td>\n",
       "    </tr>\n",
       "    <tr>\n",
       "      <th>109</th>\n",
       "      <td>2364.1812</td>\n",
       "      <td>187.93697</td>\n",
       "    </tr>\n",
       "    <tr>\n",
       "      <th>110</th>\n",
       "      <td>2364.3336</td>\n",
       "      <td>187.98050</td>\n",
       "    </tr>\n",
       "    <tr>\n",
       "      <th>111</th>\n",
       "      <td>2364.4860</td>\n",
       "      <td>187.91135</td>\n",
       "    </tr>\n",
       "    <tr>\n",
       "      <th>112</th>\n",
       "      <td>2364.6384</td>\n",
       "      <td>187.76843</td>\n",
       "    </tr>\n",
       "  </tbody>\n",
       "</table>\n",
       "</div>"
      ],
      "text/plain": [
       "       Depth.m     GR.API\n",
       "103  2363.2668  192.89314\n",
       "104  2363.4192  193.35580\n",
       "105  2363.5716  193.45839\n",
       "106  2363.7240  192.31787\n",
       "107  2363.8764  189.98587\n",
       "108  2364.0288  188.28302\n",
       "109  2364.1812  187.93697\n",
       "110  2364.3336  187.98050\n",
       "111  2364.4860  187.91135\n",
       "112  2364.6384  187.76843"
      ]
     },
     "execution_count": 44,
     "metadata": {},
     "output_type": "execute_result"
    }
   ],
   "source": [
    "welldata.iloc[-10:][['Depth.m', 'GR.API']] # The last 10 rows of depth and GR columns"
   ]
  },
  {
   "cell_type": "markdown",
   "metadata": {},
   "source": [
    "Plot the sonic log"
   ]
  },
  {
   "cell_type": "code",
   "execution_count": 45,
   "metadata": {},
   "outputs": [
    {
     "data": {
      "text/plain": [
       "[<matplotlib.lines.Line2D at 0x96c45c0>]"
      ]
     },
     "execution_count": 45,
     "metadata": {},
     "output_type": "execute_result"
    },
    {
     "data": {
      "image/png": "[encoded data removed]",
      "text/plain": [
       "<Figure size 432x288 with 1 Axes>"
      ]
     },
     "metadata": {
      "needs_background": "light"
     },
     "output_type": "display_data"
    }
   ],
   "source": [
    "plt.plot(welldata['DT.us/ft'])"
   ]
  },
  {
   "cell_type": "markdown",
   "metadata": {},
   "source": [
    "Convert sonic to velocity and save in new column"
   ]
  },
  {
   "cell_type": "code",
   "execution_count": 46,
   "metadata": {},
   "outputs": [],
   "source": [
    "welldata['Vp.m/s'] = 1 / (welldata['DT.us/ft'] * (1 / (1e6*0.3048)))"
   ]
  },
  {
   "cell_type": "code",
   "execution_count": 47,
   "metadata": {},
   "outputs": [
    {
     "data": {
      "text/html": [
       "<div>\n",
       "<style scoped>\n",
       "    .dataframe tbody tr th:only-of-type {\n",
       "        vertical-align: middle;\n",
       "    }\n",
       "\n",
       "    .dataframe tbody tr th {\n",
       "        vertical-align: top;\n",
       "    }\n",
       "\n",
       "    .dataframe thead th {\n",
       "        text-align: right;\n",
       "    }\n",
       "</style>\n",
       "<table border=\"1\" class=\"dataframe\">\n",
       "  <thead>\n",
       "    <tr style=\"text-align: right;\">\n",
       "      <th></th>\n",
       "      <th>Depth.m</th>\n",
       "      <th>GR.API</th>\n",
       "      <th>DT.us/ft</th>\n",
       "      <th>NPHI.g/cm3</th>\n",
       "      <th>Vp.m/s</th>\n",
       "    </tr>\n",
       "  </thead>\n",
       "  <tbody>\n",
       "    <tr>\n",
       "      <th>0</th>\n",
       "      <td>2347.5696</td>\n",
       "      <td>190.01521</td>\n",
       "      <td>102.28007</td>\n",
       "      <td>28.93231</td>\n",
       "      <td>2980.052712</td>\n",
       "    </tr>\n",
       "    <tr>\n",
       "      <th>1</th>\n",
       "      <td>2347.7220</td>\n",
       "      <td>189.83575</td>\n",
       "      <td>103.07578</td>\n",
       "      <td>30.85096</td>\n",
       "      <td>2957.047718</td>\n",
       "    </tr>\n",
       "    <tr>\n",
       "      <th>2</th>\n",
       "      <td>2347.8744</td>\n",
       "      <td>189.73279</td>\n",
       "      <td>103.88969</td>\n",
       "      <td>32.90793</td>\n",
       "      <td>2933.881119</td>\n",
       "    </tr>\n",
       "    <tr>\n",
       "      <th>3</th>\n",
       "      <td>2348.0268</td>\n",
       "      <td>189.72128</td>\n",
       "      <td>104.63711</td>\n",
       "      <td>33.57746</td>\n",
       "      <td>2912.924487</td>\n",
       "    </tr>\n",
       "    <tr>\n",
       "      <th>4</th>\n",
       "      <td>2348.1792</td>\n",
       "      <td>189.55658</td>\n",
       "      <td>105.26027</td>\n",
       "      <td>32.24901</td>\n",
       "      <td>2895.679443</td>\n",
       "    </tr>\n",
       "  </tbody>\n",
       "</table>\n",
       "</div>"
      ],
      "text/plain": [
       "     Depth.m     GR.API   DT.us/ft  NPHI.g/cm3       Vp.m/s\n",
       "0  2347.5696  190.01521  102.28007    28.93231  2980.052712\n",
       "1  2347.7220  189.83575  103.07578    30.85096  2957.047718\n",
       "2  2347.8744  189.73279  103.88969    32.90793  2933.881119\n",
       "3  2348.0268  189.72128  104.63711    33.57746  2912.924487\n",
       "4  2348.1792  189.55658  105.26027    32.24901  2895.679443"
      ]
     },
     "execution_count": 47,
     "metadata": {},
     "output_type": "execute_result"
    }
   ],
   "source": [
    "welldata.head() # Check the updated dataframe"
   ]
  },
  {
   "cell_type": "markdown",
   "metadata": {},
   "source": [
    "Do some simple plotting"
   ]
  },
  {
   "cell_type": "code",
   "execution_count": 48,
   "metadata": {},
   "outputs": [
    {
     "data": {
      "text/plain": [
       "Text(0,0.5,'m')"
      ]
     },
     "execution_count": 48,
     "metadata": {},
     "output_type": "execute_result"
    },
    {
     "data": {
      "image/png": "[encoded data removed]",
      "text/plain": [
       "<Figure size 432x288 with 1 Axes>"
      ]
     },
     "metadata": {
      "needs_background": "light"
     },
     "output_type": "display_data"
    }
   ],
   "source": [
    "plt.plot(welldata['Vp.m/s'], -welldata['Depth.m']) # Plot velocity vs depth\n",
    "plt.title('Velocity log')\n",
    "plt.xlabel('m/s')\n",
    "plt.ylabel('m')"
   ]
  },
  {
   "cell_type": "markdown",
   "metadata": {},
   "source": [
    "Remove columns"
   ]
  },
  {
   "cell_type": "code",
   "execution_count": 49,
   "metadata": {},
   "outputs": [
    {
     "data": {
      "text/html": [
       "<div>\n",
       "<style scoped>\n",
       "    .dataframe tbody tr th:only-of-type {\n",
       "        vertical-align: middle;\n",
       "    }\n",
       "\n",
       "    .dataframe tbody tr th {\n",
       "        vertical-align: top;\n",
       "    }\n",
       "\n",
       "    .dataframe thead th {\n",
       "        text-align: right;\n",
       "    }\n",
       "</style>\n",
       "<table border=\"1\" class=\"dataframe\">\n",
       "  <thead>\n",
       "    <tr style=\"text-align: right;\">\n",
       "      <th></th>\n",
       "      <th>Depth.m</th>\n",
       "      <th>GR.API</th>\n",
       "      <th>NPHI.g/cm3</th>\n",
       "      <th>Vp.m/s</th>\n",
       "    </tr>\n",
       "  </thead>\n",
       "  <tbody>\n",
       "    <tr>\n",
       "      <th>0</th>\n",
       "      <td>2347.5696</td>\n",
       "      <td>190.01521</td>\n",
       "      <td>28.93231</td>\n",
       "      <td>2980.052712</td>\n",
       "    </tr>\n",
       "    <tr>\n",
       "      <th>1</th>\n",
       "      <td>2347.7220</td>\n",
       "      <td>189.83575</td>\n",
       "      <td>30.85096</td>\n",
       "      <td>2957.047718</td>\n",
       "    </tr>\n",
       "    <tr>\n",
       "      <th>2</th>\n",
       "      <td>2347.8744</td>\n",
       "      <td>189.73279</td>\n",
       "      <td>32.90793</td>\n",
       "      <td>2933.881119</td>\n",
       "    </tr>\n",
       "    <tr>\n",
       "      <th>3</th>\n",
       "      <td>2348.0268</td>\n",
       "      <td>189.72128</td>\n",
       "      <td>33.57746</td>\n",
       "      <td>2912.924487</td>\n",
       "    </tr>\n",
       "    <tr>\n",
       "      <th>4</th>\n",
       "      <td>2348.1792</td>\n",
       "      <td>189.55658</td>\n",
       "      <td>32.24901</td>\n",
       "      <td>2895.679443</td>\n",
       "    </tr>\n",
       "  </tbody>\n",
       "</table>\n",
       "</div>"
      ],
      "text/plain": [
       "     Depth.m     GR.API  NPHI.g/cm3       Vp.m/s\n",
       "0  2347.5696  190.01521    28.93231  2980.052712\n",
       "1  2347.7220  189.83575    30.85096  2957.047718\n",
       "2  2347.8744  189.73279    32.90793  2933.881119\n",
       "3  2348.0268  189.72128    33.57746  2912.924487\n",
       "4  2348.1792  189.55658    32.24901  2895.679443"
      ]
     },
     "execution_count": 49,
     "metadata": {},
     "output_type": "execute_result"
    }
   ],
   "source": [
    "welldata = welldata.drop(columns=['DT.us/ft']) # We can now remove the sonic log\n",
    "welldata.head()"
   ]
  },
  {
   "cell_type": "markdown",
   "metadata": {},
   "source": [
    "Convert to numpy array"
   ]
  },
  {
   "cell_type": "code",
   "execution_count": 50,
   "metadata": {},
   "outputs": [
    {
     "name": "stdout",
     "output_type": "stream",
     "text": [
      "[[2347.5696      190.01521      28.93231    2980.05271213]\n",
      " [2347.722       189.83575      30.85096    2957.04771771]\n",
      " [2347.8744      189.73279      32.90793    2933.88111948]\n",
      " [2348.0268      189.72128      33.57746    2912.92448731]\n",
      " [2348.1792      189.55658      32.24901    2895.67944297]\n",
      " [2348.3316      189.11845      30.00695    2884.40218825]\n",
      " [2348.484       188.68214      27.94748    2879.64256153]\n",
      " [2348.6364      188.49919      25.91761    2881.94029467]\n",
      " [2348.7888      188.49576      24.05538    2890.71942495]\n",
      " [2348.9412      188.61707      23.32273    2905.23971611]\n",
      " [2349.0936      189.0452       23.94993    2923.36160113]\n",
      " [2349.246       189.83618      25.07602    2941.04081582]\n",
      " [2349.3984      190.65704      25.84985    2956.04540866]\n",
      " [2349.5508      191.15874      25.84706    2966.75107177]\n",
      " [2349.7032      191.29588      25.02611    2972.9290813 ]\n",
      " [2349.8556      191.19113      24.04277    2974.80318281]\n",
      " [2350.008       191.01277      23.95144    2973.44908973]\n",
      " [2350.1604      190.83614      25.0794     2970.55061612]\n",
      " [2350.3128      190.54855      26.6675     2966.60236433]\n",
      " [2350.4652      190.07471      27.84958    2960.82502107]\n",
      " [2350.6176      189.54082      28.40231    2953.498675  ]\n",
      " [2350.77        189.08908      28.37271    2945.98609877]\n",
      " [2350.9224      188.75203      27.74703    2938.89867665]\n",
      " [2351.0748      188.61388      26.54791    2932.39925001]\n",
      " [2351.2272      188.88834      24.90669    2927.40412343]\n",
      " [2351.3796      189.61449      23.42513    2926.52127258]\n",
      " [2351.532       190.44334      23.23398    2930.13727905]\n",
      " [2351.6844      191.05803      24.8894     2937.20736337]\n",
      " [2351.8368      191.49083      27.56636    2946.23384223]\n",
      " [2351.9892      191.78572      29.73282    2955.04291938]\n",
      " [2352.1416      191.76706      30.44812    2962.51514425]\n",
      " [2352.294       191.28954      30.04073    2967.8135364 ]\n",
      " [2352.4464      190.46094      29.25128    2970.60157021]\n",
      " [2352.5988      189.59151      28.32688    2970.30802913]\n",
      " [2352.7512      189.1395       27.43879    2967.13691439]\n",
      " [2352.9036      189.52393      26.85756    2961.63890567]\n",
      " [2353.056       190.96724      26.55124    2954.73755038]\n",
      " [2353.2084      193.69543      26.26301    2947.76679103]\n",
      " [2353.3608      197.9222       25.66202    2941.23777476]\n",
      " [2353.5132      203.15764      24.5167     2935.08465187]\n",
      " [2353.6656      207.83069      23.04088    2929.44759922]\n",
      " [2353.818       210.6888       21.65333    2924.85652082]\n",
      " [2353.9704      211.8177       20.57562    2921.08667108]\n",
      " [2354.1228      211.40277      19.90673    2917.23606048]\n",
      " [2354.2752      208.98866      19.72984    2914.05265563]\n",
      " [2354.4276      204.7142       19.9529     2914.6381101 ]\n",
      " [2354.58        200.12679      20.37152    2919.70131685]\n",
      " [2354.7324      196.58293      21.06781    2928.66622314]\n",
      " [2354.8848      193.97426      22.38381    2942.42093475]\n",
      " [2355.0372      191.78442      24.43353    2965.09014925]\n",
      " [2355.1896      189.91232      26.95674    2996.61582972]\n",
      " [2355.342       188.40225      29.64982    3033.22485839]\n",
      " [2355.4944      187.25661      32.34197    3072.09134029]\n",
      " [2355.6468      186.46092      34.71948    3110.0993538 ]\n",
      " [2355.7992      186.00842      36.22223    3144.14610129]\n",
      " [2355.9516      185.9064       36.67843    3168.25821055]\n",
      " [2356.104       186.14784      36.59824    3181.44408127]\n",
      " [2356.2564      186.58536      36.48318    3185.84548085]\n",
      " [2356.4088      186.87979      36.4046     3183.59138563]\n",
      " [2356.5612      186.82744      36.10978    3175.72644742]\n",
      " [2356.7136      186.60921      35.12276    3162.93045507]\n",
      " [2356.866       186.44736      33.28886    3144.92469205]\n",
      " [2357.0184      186.33847      31.48521    3122.70445877]\n",
      " [2357.1708      186.2113       30.92597    3098.09936483]\n",
      " [2357.3232      186.04329      31.62329    3073.50238605]\n",
      " [2357.4756      185.82033      32.26929    3052.69259906]\n",
      " [2357.628       185.5199       31.70642    3037.30655481]\n",
      " [2357.7804      185.17111      30.16739    3028.50972283]\n",
      " [2357.9328      184.88324      28.77897    3025.75975805]\n",
      " [2358.0852      184.69714      28.4586     3027.94080058]\n",
      " [2358.2376      184.47496      29.67586    3033.82234143]\n",
      " [2358.39        184.07182      32.66726    3042.26624082]\n",
      " [2358.5424      183.48291      36.85666    3052.25576021]\n",
      " [2358.6948      182.8004       40.3545     3062.6255684 ]\n",
      " [2358.8472      182.18379      41.7101     3072.72684749]\n",
      " [2358.9996      181.79831      41.56713    3082.08228229]\n",
      " [2359.152       181.74869      40.99208    3090.72181131]\n",
      " [2359.3044      182.0699       39.80087    3099.05129174]\n",
      " [2359.4568      182.70082      37.54532    3108.12005542]\n",
      " [2359.6092      183.51541      34.77052    3120.19890654]\n",
      " [2359.7616      184.3539       33.04517    3135.69278441]\n",
      " [2359.914       185.05014      33.40653    3153.6853576 ]\n",
      " [2360.0664      185.47055      34.72438    3173.66177262]\n",
      " [2360.2188      185.54401      35.11601    3195.77486689]\n",
      " [2360.3712      185.29765      34.28257    3219.49305871]\n",
      " [2360.5236      184.8167       33.24105    3243.54074613]\n",
      " [2360.676       184.22527      32.8747     3267.58357692]\n",
      " [2360.8284      183.69888      32.97366    3292.07901811]\n",
      " [2360.9808      183.43588      32.55012    3316.21226326]\n",
      " [2361.1332      183.51131      31.19969    3337.0214281 ]\n",
      " [2361.2856      183.77319      29.40431    3352.5223441 ]\n",
      " [2361.438       184.07959      27.67324    3360.13578123]\n",
      " [2361.5904      184.58965      26.24999    3360.17726919]\n",
      " [2361.7428      185.7267       25.37286    3354.8226897 ]\n",
      " [2361.8952      187.40627      25.17605    3346.72462386]\n",
      " [2362.0476      188.75601      25.55253    3339.4362773 ]\n",
      " [2362.2         189.45897      26.36285    3334.54878074]\n",
      " [2362.3524      189.94928      27.38132    3332.8190499 ]\n",
      " [2362.5048      190.43947      28.14225    3333.75479227]\n",
      " [2362.6572      190.93056      28.34956    3336.0849467 ]\n",
      " [2362.8096      191.4218       28.27339    3339.11982642]\n",
      " [2362.962       191.91211      28.50913    3342.56706519]\n",
      " [2363.1144      192.40222      29.39163    3344.8967115 ]\n",
      " [2363.2668      192.89314      30.74035    3342.16059937]\n",
      " [2363.4192      193.3558       32.24812    3333.58123745]\n",
      " [2363.5716      193.45839      33.77273    3320.43831093]\n",
      " [2363.724       192.31787      35.22094    3304.25201296]\n",
      " [2363.8764      189.98587      36.57172    3286.5184168 ]\n",
      " [2364.0288      188.28302      37.87635    3268.20477447]\n",
      " [2364.1812      187.93697      38.71558    3250.08023902]\n",
      " [2364.3336      187.9805       38.11759    3232.23753977]\n",
      " [2364.486       187.91135      35.81781    3214.00598008]\n",
      " [2364.6384      187.76843      33.08551    3194.22457369]]\n"
     ]
    }
   ],
   "source": [
    "df_to_arr = np.array(welldata) # Can convert the dataframe to an array\n",
    "print(df_to_arr)"
   ]
  },
  {
   "cell_type": "markdown",
   "metadata": {},
   "source": [
    "Filter data"
   ]
  },
  {
   "cell_type": "code",
   "execution_count": 51,
   "metadata": {},
   "outputs": [
    {
     "data": {
      "text/html": [
       "<div>\n",
       "<style scoped>\n",
       "    .dataframe tbody tr th:only-of-type {\n",
       "        vertical-align: middle;\n",
       "    }\n",
       "\n",
       "    .dataframe tbody tr th {\n",
       "        vertical-align: top;\n",
       "    }\n",
       "\n",
       "    .dataframe thead th {\n",
       "        text-align: right;\n",
       "    }\n",
       "</style>\n",
       "<table border=\"1\" class=\"dataframe\">\n",
       "  <thead>\n",
       "    <tr style=\"text-align: right;\">\n",
       "      <th></th>\n",
       "      <th>Depth.m</th>\n",
       "      <th>GR.API</th>\n",
       "      <th>NPHI.g/cm3</th>\n",
       "      <th>Vp.m/s</th>\n",
       "    </tr>\n",
       "  </thead>\n",
       "  <tbody>\n",
       "    <tr>\n",
       "      <th>39</th>\n",
       "      <td>2353.5132</td>\n",
       "      <td>203.15764</td>\n",
       "      <td>24.51670</td>\n",
       "      <td>2935.084652</td>\n",
       "    </tr>\n",
       "    <tr>\n",
       "      <th>40</th>\n",
       "      <td>2353.6656</td>\n",
       "      <td>207.83069</td>\n",
       "      <td>23.04088</td>\n",
       "      <td>2929.447599</td>\n",
       "    </tr>\n",
       "    <tr>\n",
       "      <th>41</th>\n",
       "      <td>2353.8180</td>\n",
       "      <td>210.68880</td>\n",
       "      <td>21.65333</td>\n",
       "      <td>2924.856521</td>\n",
       "    </tr>\n",
       "    <tr>\n",
       "      <th>42</th>\n",
       "      <td>2353.9704</td>\n",
       "      <td>211.81770</td>\n",
       "      <td>20.57562</td>\n",
       "      <td>2921.086671</td>\n",
       "    </tr>\n",
       "    <tr>\n",
       "      <th>43</th>\n",
       "      <td>2354.1228</td>\n",
       "      <td>211.40277</td>\n",
       "      <td>19.90673</td>\n",
       "      <td>2917.236060</td>\n",
       "    </tr>\n",
       "    <tr>\n",
       "      <th>44</th>\n",
       "      <td>2354.2752</td>\n",
       "      <td>208.98866</td>\n",
       "      <td>19.72984</td>\n",
       "      <td>2914.052656</td>\n",
       "    </tr>\n",
       "    <tr>\n",
       "      <th>45</th>\n",
       "      <td>2354.4276</td>\n",
       "      <td>204.71420</td>\n",
       "      <td>19.95290</td>\n",
       "      <td>2914.638110</td>\n",
       "    </tr>\n",
       "    <tr>\n",
       "      <th>46</th>\n",
       "      <td>2354.5800</td>\n",
       "      <td>200.12679</td>\n",
       "      <td>20.37152</td>\n",
       "      <td>2919.701317</td>\n",
       "    </tr>\n",
       "  </tbody>\n",
       "</table>\n",
       "</div>"
      ],
      "text/plain": [
       "      Depth.m     GR.API  NPHI.g/cm3       Vp.m/s\n",
       "39  2353.5132  203.15764    24.51670  2935.084652\n",
       "40  2353.6656  207.83069    23.04088  2929.447599\n",
       "41  2353.8180  210.68880    21.65333  2924.856521\n",
       "42  2353.9704  211.81770    20.57562  2921.086671\n",
       "43  2354.1228  211.40277    19.90673  2917.236060\n",
       "44  2354.2752  208.98866    19.72984  2914.052656\n",
       "45  2354.4276  204.71420    19.95290  2914.638110\n",
       "46  2354.5800  200.12679    20.37152  2919.701317"
      ]
     },
     "execution_count": 51,
     "metadata": {},
     "output_type": "execute_result"
    }
   ],
   "source": [
    "welldata[welldata['GR.API']>200] # Filter out all rows where gamma ray values are higher than 200"
   ]
  },
  {
   "cell_type": "code",
   "execution_count": 52,
   "metadata": {},
   "outputs": [
    {
     "data": {
      "text/html": [
       "<div>\n",
       "<style scoped>\n",
       "    .dataframe tbody tr th:only-of-type {\n",
       "        vertical-align: middle;\n",
       "    }\n",
       "\n",
       "    .dataframe tbody tr th {\n",
       "        vertical-align: top;\n",
       "    }\n",
       "\n",
       "    .dataframe thead th {\n",
       "        text-align: right;\n",
       "    }\n",
       "</style>\n",
       "<table border=\"1\" class=\"dataframe\">\n",
       "  <thead>\n",
       "    <tr style=\"text-align: right;\">\n",
       "      <th></th>\n",
       "      <th>Depth.m</th>\n",
       "      <th>GR.API</th>\n",
       "      <th>NPHI.g/cm3</th>\n",
       "      <th>Vp.m/s</th>\n",
       "    </tr>\n",
       "  </thead>\n",
       "  <tbody>\n",
       "    <tr>\n",
       "      <th>98</th>\n",
       "      <td>2362.5048</td>\n",
       "      <td>190.43947</td>\n",
       "      <td>28.14225</td>\n",
       "      <td>3333.754792</td>\n",
       "    </tr>\n",
       "    <tr>\n",
       "      <th>99</th>\n",
       "      <td>2362.6572</td>\n",
       "      <td>190.93056</td>\n",
       "      <td>28.34956</td>\n",
       "      <td>3336.084947</td>\n",
       "    </tr>\n",
       "    <tr>\n",
       "      <th>100</th>\n",
       "      <td>2362.8096</td>\n",
       "      <td>191.42180</td>\n",
       "      <td>28.27339</td>\n",
       "      <td>3339.119826</td>\n",
       "    </tr>\n",
       "    <tr>\n",
       "      <th>101</th>\n",
       "      <td>2362.9620</td>\n",
       "      <td>191.91211</td>\n",
       "      <td>28.50913</td>\n",
       "      <td>3342.567065</td>\n",
       "    </tr>\n",
       "    <tr>\n",
       "      <th>102</th>\n",
       "      <td>2363.1144</td>\n",
       "      <td>192.40222</td>\n",
       "      <td>29.39163</td>\n",
       "      <td>3344.896711</td>\n",
       "    </tr>\n",
       "    <tr>\n",
       "      <th>103</th>\n",
       "      <td>2363.2668</td>\n",
       "      <td>192.89314</td>\n",
       "      <td>30.74035</td>\n",
       "      <td>3342.160599</td>\n",
       "    </tr>\n",
       "    <tr>\n",
       "      <th>104</th>\n",
       "      <td>2363.4192</td>\n",
       "      <td>193.35580</td>\n",
       "      <td>32.24812</td>\n",
       "      <td>3333.581237</td>\n",
       "    </tr>\n",
       "    <tr>\n",
       "      <th>105</th>\n",
       "      <td>2363.5716</td>\n",
       "      <td>193.45839</td>\n",
       "      <td>33.77273</td>\n",
       "      <td>3320.438311</td>\n",
       "    </tr>\n",
       "    <tr>\n",
       "      <th>106</th>\n",
       "      <td>2363.7240</td>\n",
       "      <td>192.31787</td>\n",
       "      <td>35.22094</td>\n",
       "      <td>3304.252013</td>\n",
       "    </tr>\n",
       "  </tbody>\n",
       "</table>\n",
       "</div>"
      ],
      "text/plain": [
       "       Depth.m     GR.API  NPHI.g/cm3       Vp.m/s\n",
       "98   2362.5048  190.43947    28.14225  3333.754792\n",
       "99   2362.6572  190.93056    28.34956  3336.084947\n",
       "100  2362.8096  191.42180    28.27339  3339.119826\n",
       "101  2362.9620  191.91211    28.50913  3342.567065\n",
       "102  2363.1144  192.40222    29.39163  3344.896711\n",
       "103  2363.2668  192.89314    30.74035  3342.160599\n",
       "104  2363.4192  193.35580    32.24812  3333.581237\n",
       "105  2363.5716  193.45839    33.77273  3320.438311\n",
       "106  2363.7240  192.31787    35.22094  3304.252013"
      ]
     },
     "execution_count": 52,
     "metadata": {},
     "output_type": "execute_result"
    }
   ],
   "source": [
    "welldata[(welldata['Depth.m']>2360) & (welldata['GR.API'] > 190)] # Filter GR >190 and Depth > 2360"
   ]
  },
  {
   "cell_type": "code",
   "execution_count": 53,
   "metadata": {},
   "outputs": [
    {
     "data": {
      "text/html": [
       "<div>\n",
       "<style scoped>\n",
       "    .dataframe tbody tr th:only-of-type {\n",
       "        vertical-align: middle;\n",
       "    }\n",
       "\n",
       "    .dataframe tbody tr th {\n",
       "        vertical-align: top;\n",
       "    }\n",
       "\n",
       "    .dataframe thead th {\n",
       "        text-align: right;\n",
       "    }\n",
       "</style>\n",
       "<table border=\"1\" class=\"dataframe\">\n",
       "  <thead>\n",
       "    <tr style=\"text-align: right;\">\n",
       "      <th></th>\n",
       "      <th>Depth.m</th>\n",
       "      <th>GR.API</th>\n",
       "      <th>NPHI.g/cm3</th>\n",
       "      <th>Vp.m/s</th>\n",
       "    </tr>\n",
       "  </thead>\n",
       "  <tbody>\n",
       "    <tr>\n",
       "      <th>39</th>\n",
       "      <td>2353.5132</td>\n",
       "      <td>203.15764</td>\n",
       "      <td>24.51670</td>\n",
       "      <td>2935.084652</td>\n",
       "    </tr>\n",
       "    <tr>\n",
       "      <th>40</th>\n",
       "      <td>2353.6656</td>\n",
       "      <td>207.83069</td>\n",
       "      <td>23.04088</td>\n",
       "      <td>2929.447599</td>\n",
       "    </tr>\n",
       "    <tr>\n",
       "      <th>41</th>\n",
       "      <td>2353.8180</td>\n",
       "      <td>210.68880</td>\n",
       "      <td>21.65333</td>\n",
       "      <td>2924.856521</td>\n",
       "    </tr>\n",
       "    <tr>\n",
       "      <th>42</th>\n",
       "      <td>2353.9704</td>\n",
       "      <td>211.81770</td>\n",
       "      <td>20.57562</td>\n",
       "      <td>2921.086671</td>\n",
       "    </tr>\n",
       "    <tr>\n",
       "      <th>43</th>\n",
       "      <td>2354.1228</td>\n",
       "      <td>211.40277</td>\n",
       "      <td>19.90673</td>\n",
       "      <td>2917.236060</td>\n",
       "    </tr>\n",
       "    <tr>\n",
       "      <th>44</th>\n",
       "      <td>2354.2752</td>\n",
       "      <td>208.98866</td>\n",
       "      <td>19.72984</td>\n",
       "      <td>2914.052656</td>\n",
       "    </tr>\n",
       "    <tr>\n",
       "      <th>45</th>\n",
       "      <td>2354.4276</td>\n",
       "      <td>204.71420</td>\n",
       "      <td>19.95290</td>\n",
       "      <td>2914.638110</td>\n",
       "    </tr>\n",
       "    <tr>\n",
       "      <th>46</th>\n",
       "      <td>2354.5800</td>\n",
       "      <td>200.12679</td>\n",
       "      <td>20.37152</td>\n",
       "      <td>2919.701317</td>\n",
       "    </tr>\n",
       "  </tbody>\n",
       "</table>\n",
       "</div>"
      ],
      "text/plain": [
       "      Depth.m     GR.API  NPHI.g/cm3       Vp.m/s\n",
       "39  2353.5132  203.15764    24.51670  2935.084652\n",
       "40  2353.6656  207.83069    23.04088  2929.447599\n",
       "41  2353.8180  210.68880    21.65333  2924.856521\n",
       "42  2353.9704  211.81770    20.57562  2921.086671\n",
       "43  2354.1228  211.40277    19.90673  2917.236060\n",
       "44  2354.2752  208.98866    19.72984  2914.052656\n",
       "45  2354.4276  204.71420    19.95290  2914.638110\n",
       "46  2354.5800  200.12679    20.37152  2919.701317"
      ]
     },
     "execution_count": 53,
     "metadata": {},
     "output_type": "execute_result"
    }
   ],
   "source": [
    "# Filter GR > 200 and Vp > 2900 OR NPHI > 21 (one of the last two must be satisfied)\n",
    "welldata[(welldata['GR.API']>200) & ((welldata['Vp.m/s']>2900) | (welldata['NPHI.g/cm3']>21))] "
   ]
  },
  {
   "cell_type": "markdown",
   "metadata": {},
   "source": [
    "Loading the dataframe with depth as the index"
   ]
  },
  {
   "cell_type": "code",
   "execution_count": 54,
   "metadata": {},
   "outputs": [
    {
     "data": {
      "text/html": [
       "<div>\n",
       "<style scoped>\n",
       "    .dataframe tbody tr th:only-of-type {\n",
       "        vertical-align: middle;\n",
       "    }\n",
       "\n",
       "    .dataframe tbody tr th {\n",
       "        vertical-align: top;\n",
       "    }\n",
       "\n",
       "    .dataframe thead th {\n",
       "        text-align: right;\n",
       "    }\n",
       "</style>\n",
       "<table border=\"1\" class=\"dataframe\">\n",
       "  <thead>\n",
       "    <tr style=\"text-align: right;\">\n",
       "      <th></th>\n",
       "      <th>GR.API</th>\n",
       "      <th>DT.us/ft</th>\n",
       "      <th>NPHI.g/cm3</th>\n",
       "    </tr>\n",
       "    <tr>\n",
       "      <th>Depth.m</th>\n",
       "      <th></th>\n",
       "      <th></th>\n",
       "      <th></th>\n",
       "    </tr>\n",
       "  </thead>\n",
       "  <tbody>\n",
       "    <tr>\n",
       "      <th>2347.5696</th>\n",
       "      <td>190.01521</td>\n",
       "      <td>102.28007</td>\n",
       "      <td>28.93231</td>\n",
       "    </tr>\n",
       "    <tr>\n",
       "      <th>2347.7220</th>\n",
       "      <td>189.83575</td>\n",
       "      <td>103.07578</td>\n",
       "      <td>30.85096</td>\n",
       "    </tr>\n",
       "    <tr>\n",
       "      <th>2347.8744</th>\n",
       "      <td>189.73279</td>\n",
       "      <td>103.88969</td>\n",
       "      <td>32.90793</td>\n",
       "    </tr>\n",
       "    <tr>\n",
       "      <th>2348.0268</th>\n",
       "      <td>189.72128</td>\n",
       "      <td>104.63711</td>\n",
       "      <td>33.57746</td>\n",
       "    </tr>\n",
       "    <tr>\n",
       "      <th>2348.1792</th>\n",
       "      <td>189.55658</td>\n",
       "      <td>105.26027</td>\n",
       "      <td>32.24901</td>\n",
       "    </tr>\n",
       "  </tbody>\n",
       "</table>\n",
       "</div>"
      ],
      "text/plain": [
       "              GR.API   DT.us/ft  NPHI.g/cm3\n",
       "Depth.m                                    \n",
       "2347.5696  190.01521  102.28007    28.93231\n",
       "2347.7220  189.83575  103.07578    30.85096\n",
       "2347.8744  189.73279  103.88969    32.90793\n",
       "2348.0268  189.72128  104.63711    33.57746\n",
       "2348.1792  189.55658  105.26027    32.24901"
      ]
     },
     "execution_count": 54,
     "metadata": {},
     "output_type": "execute_result"
    }
   ],
   "source": [
    "welldata2 = pd.read_excel('DataClub_S4_Sample_Data.xlsx', index_col=0)\n",
    "welldata2.head()"
   ]
  },
  {
   "cell_type": "code",
   "execution_count": 55,
   "metadata": {},
   "outputs": [
    {
     "data": {
      "text/plain": [
       "GR.API        189.83575\n",
       "DT.us/ft      103.07578\n",
       "NPHI.g/cm3     30.85096\n",
       "Name: 2347.722, dtype: float64"
      ]
     },
     "execution_count": 55,
     "metadata": {},
     "output_type": "execute_result"
    }
   ],
   "source": [
    "welldata2.loc[2347.7220] # Access a specific depth value"
   ]
  },
  {
   "cell_type": "code",
   "execution_count": 56,
   "metadata": {},
   "outputs": [
    {
     "data": {
      "text/html": [
       "<div>\n",
       "<style scoped>\n",
       "    .dataframe tbody tr th:only-of-type {\n",
       "        vertical-align: middle;\n",
       "    }\n",
       "\n",
       "    .dataframe tbody tr th {\n",
       "        vertical-align: top;\n",
       "    }\n",
       "\n",
       "    .dataframe thead th {\n",
       "        text-align: right;\n",
       "    }\n",
       "</style>\n",
       "<table border=\"1\" class=\"dataframe\">\n",
       "  <thead>\n",
       "    <tr style=\"text-align: right;\">\n",
       "      <th></th>\n",
       "      <th>index</th>\n",
       "      <th>Depth.m</th>\n",
       "      <th>GR.API</th>\n",
       "      <th>NPHI.g/cm3</th>\n",
       "      <th>Vp.m/s</th>\n",
       "    </tr>\n",
       "  </thead>\n",
       "  <tbody>\n",
       "    <tr>\n",
       "      <th>0</th>\n",
       "      <td>0</td>\n",
       "      <td>2347.5696</td>\n",
       "      <td>190.01521</td>\n",
       "      <td>28.93231</td>\n",
       "      <td>2980.052712</td>\n",
       "    </tr>\n",
       "    <tr>\n",
       "      <th>1</th>\n",
       "      <td>1</td>\n",
       "      <td>2347.7220</td>\n",
       "      <td>189.83575</td>\n",
       "      <td>30.85096</td>\n",
       "      <td>2957.047718</td>\n",
       "    </tr>\n",
       "    <tr>\n",
       "      <th>2</th>\n",
       "      <td>2</td>\n",
       "      <td>2347.8744</td>\n",
       "      <td>189.73279</td>\n",
       "      <td>32.90793</td>\n",
       "      <td>2933.881119</td>\n",
       "    </tr>\n",
       "    <tr>\n",
       "      <th>3</th>\n",
       "      <td>3</td>\n",
       "      <td>2348.0268</td>\n",
       "      <td>189.72128</td>\n",
       "      <td>33.57746</td>\n",
       "      <td>2912.924487</td>\n",
       "    </tr>\n",
       "    <tr>\n",
       "      <th>4</th>\n",
       "      <td>4</td>\n",
       "      <td>2348.1792</td>\n",
       "      <td>189.55658</td>\n",
       "      <td>32.24901</td>\n",
       "      <td>2895.679443</td>\n",
       "    </tr>\n",
       "  </tbody>\n",
       "</table>\n",
       "</div>"
      ],
      "text/plain": [
       "   index    Depth.m     GR.API  NPHI.g/cm3       Vp.m/s\n",
       "0      0  2347.5696  190.01521    28.93231  2980.052712\n",
       "1      1  2347.7220  189.83575    30.85096  2957.047718\n",
       "2      2  2347.8744  189.73279    32.90793  2933.881119\n",
       "3      3  2348.0268  189.72128    33.57746  2912.924487\n",
       "4      4  2348.1792  189.55658    32.24901  2895.679443"
      ]
     },
     "execution_count": 56,
     "metadata": {},
     "output_type": "execute_result"
    }
   ],
   "source": [
    "welldata2 = welldata.reset_index() # Reset the index\n",
    "welldata2.head()"
   ]
  },
  {
   "cell_type": "markdown",
   "metadata": {},
   "source": [
    "Sorting the data"
   ]
  },
  {
   "cell_type": "code",
   "execution_count": 57,
   "metadata": {
    "scrolled": true
   },
   "outputs": [
    {
     "data": {
      "text/html": [
       "<div>\n",
       "<style scoped>\n",
       "    .dataframe tbody tr th:only-of-type {\n",
       "        vertical-align: middle;\n",
       "    }\n",
       "\n",
       "    .dataframe tbody tr th {\n",
       "        vertical-align: top;\n",
       "    }\n",
       "\n",
       "    .dataframe thead th {\n",
       "        text-align: right;\n",
       "    }\n",
       "</style>\n",
       "<table border=\"1\" class=\"dataframe\">\n",
       "  <thead>\n",
       "    <tr style=\"text-align: right;\">\n",
       "      <th></th>\n",
       "      <th>Depth.m</th>\n",
       "      <th>GR.API</th>\n",
       "      <th>NPHI.g/cm3</th>\n",
       "      <th>Vp.m/s</th>\n",
       "    </tr>\n",
       "  </thead>\n",
       "  <tbody>\n",
       "    <tr>\n",
       "      <th>112</th>\n",
       "      <td>2364.6384</td>\n",
       "      <td>187.76843</td>\n",
       "      <td>33.08551</td>\n",
       "      <td>3194.224574</td>\n",
       "    </tr>\n",
       "    <tr>\n",
       "      <th>111</th>\n",
       "      <td>2364.4860</td>\n",
       "      <td>187.91135</td>\n",
       "      <td>35.81781</td>\n",
       "      <td>3214.005980</td>\n",
       "    </tr>\n",
       "    <tr>\n",
       "      <th>110</th>\n",
       "      <td>2364.3336</td>\n",
       "      <td>187.98050</td>\n",
       "      <td>38.11759</td>\n",
       "      <td>3232.237540</td>\n",
       "    </tr>\n",
       "    <tr>\n",
       "      <th>109</th>\n",
       "      <td>2364.1812</td>\n",
       "      <td>187.93697</td>\n",
       "      <td>38.71558</td>\n",
       "      <td>3250.080239</td>\n",
       "    </tr>\n",
       "    <tr>\n",
       "      <th>108</th>\n",
       "      <td>2364.0288</td>\n",
       "      <td>188.28302</td>\n",
       "      <td>37.87635</td>\n",
       "      <td>3268.204774</td>\n",
       "    </tr>\n",
       "    <tr>\n",
       "      <th>107</th>\n",
       "      <td>2363.8764</td>\n",
       "      <td>189.98587</td>\n",
       "      <td>36.57172</td>\n",
       "      <td>3286.518417</td>\n",
       "    </tr>\n",
       "    <tr>\n",
       "      <th>106</th>\n",
       "      <td>2363.7240</td>\n",
       "      <td>192.31787</td>\n",
       "      <td>35.22094</td>\n",
       "      <td>3304.252013</td>\n",
       "    </tr>\n",
       "    <tr>\n",
       "      <th>105</th>\n",
       "      <td>2363.5716</td>\n",
       "      <td>193.45839</td>\n",
       "      <td>33.77273</td>\n",
       "      <td>3320.438311</td>\n",
       "    </tr>\n",
       "    <tr>\n",
       "      <th>104</th>\n",
       "      <td>2363.4192</td>\n",
       "      <td>193.35580</td>\n",
       "      <td>32.24812</td>\n",
       "      <td>3333.581237</td>\n",
       "    </tr>\n",
       "    <tr>\n",
       "      <th>103</th>\n",
       "      <td>2363.2668</td>\n",
       "      <td>192.89314</td>\n",
       "      <td>30.74035</td>\n",
       "      <td>3342.160599</td>\n",
       "    </tr>\n",
       "    <tr>\n",
       "      <th>102</th>\n",
       "      <td>2363.1144</td>\n",
       "      <td>192.40222</td>\n",
       "      <td>29.39163</td>\n",
       "      <td>3344.896711</td>\n",
       "    </tr>\n",
       "    <tr>\n",
       "      <th>101</th>\n",
       "      <td>2362.9620</td>\n",
       "      <td>191.91211</td>\n",
       "      <td>28.50913</td>\n",
       "      <td>3342.567065</td>\n",
       "    </tr>\n",
       "    <tr>\n",
       "      <th>100</th>\n",
       "      <td>2362.8096</td>\n",
       "      <td>191.42180</td>\n",
       "      <td>28.27339</td>\n",
       "      <td>3339.119826</td>\n",
       "    </tr>\n",
       "    <tr>\n",
       "      <th>99</th>\n",
       "      <td>2362.6572</td>\n",
       "      <td>190.93056</td>\n",
       "      <td>28.34956</td>\n",
       "      <td>3336.084947</td>\n",
       "    </tr>\n",
       "    <tr>\n",
       "      <th>98</th>\n",
       "      <td>2362.5048</td>\n",
       "      <td>190.43947</td>\n",
       "      <td>28.14225</td>\n",
       "      <td>3333.754792</td>\n",
       "    </tr>\n",
       "    <tr>\n",
       "      <th>97</th>\n",
       "      <td>2362.3524</td>\n",
       "      <td>189.94928</td>\n",
       "      <td>27.38132</td>\n",
       "      <td>3332.819050</td>\n",
       "    </tr>\n",
       "    <tr>\n",
       "      <th>96</th>\n",
       "      <td>2362.2000</td>\n",
       "      <td>189.45897</td>\n",
       "      <td>26.36285</td>\n",
       "      <td>3334.548781</td>\n",
       "    </tr>\n",
       "    <tr>\n",
       "      <th>95</th>\n",
       "      <td>2362.0476</td>\n",
       "      <td>188.75601</td>\n",
       "      <td>25.55253</td>\n",
       "      <td>3339.436277</td>\n",
       "    </tr>\n",
       "    <tr>\n",
       "      <th>94</th>\n",
       "      <td>2361.8952</td>\n",
       "      <td>187.40627</td>\n",
       "      <td>25.17605</td>\n",
       "      <td>3346.724624</td>\n",
       "    </tr>\n",
       "    <tr>\n",
       "      <th>93</th>\n",
       "      <td>2361.7428</td>\n",
       "      <td>185.72670</td>\n",
       "      <td>25.37286</td>\n",
       "      <td>3354.822690</td>\n",
       "    </tr>\n",
       "    <tr>\n",
       "      <th>92</th>\n",
       "      <td>2361.5904</td>\n",
       "      <td>184.58965</td>\n",
       "      <td>26.24999</td>\n",
       "      <td>3360.177269</td>\n",
       "    </tr>\n",
       "    <tr>\n",
       "      <th>91</th>\n",
       "      <td>2361.4380</td>\n",
       "      <td>184.07959</td>\n",
       "      <td>27.67324</td>\n",
       "      <td>3360.135781</td>\n",
       "    </tr>\n",
       "    <tr>\n",
       "      <th>90</th>\n",
       "      <td>2361.2856</td>\n",
       "      <td>183.77319</td>\n",
       "      <td>29.40431</td>\n",
       "      <td>3352.522344</td>\n",
       "    </tr>\n",
       "    <tr>\n",
       "      <th>89</th>\n",
       "      <td>2361.1332</td>\n",
       "      <td>183.51131</td>\n",
       "      <td>31.19969</td>\n",
       "      <td>3337.021428</td>\n",
       "    </tr>\n",
       "    <tr>\n",
       "      <th>88</th>\n",
       "      <td>2360.9808</td>\n",
       "      <td>183.43588</td>\n",
       "      <td>32.55012</td>\n",
       "      <td>3316.212263</td>\n",
       "    </tr>\n",
       "    <tr>\n",
       "      <th>87</th>\n",
       "      <td>2360.8284</td>\n",
       "      <td>183.69888</td>\n",
       "      <td>32.97366</td>\n",
       "      <td>3292.079018</td>\n",
       "    </tr>\n",
       "    <tr>\n",
       "      <th>86</th>\n",
       "      <td>2360.6760</td>\n",
       "      <td>184.22527</td>\n",
       "      <td>32.87470</td>\n",
       "      <td>3267.583577</td>\n",
       "    </tr>\n",
       "    <tr>\n",
       "      <th>85</th>\n",
       "      <td>2360.5236</td>\n",
       "      <td>184.81670</td>\n",
       "      <td>33.24105</td>\n",
       "      <td>3243.540746</td>\n",
       "    </tr>\n",
       "    <tr>\n",
       "      <th>84</th>\n",
       "      <td>2360.3712</td>\n",
       "      <td>185.29765</td>\n",
       "      <td>34.28257</td>\n",
       "      <td>3219.493059</td>\n",
       "    </tr>\n",
       "    <tr>\n",
       "      <th>83</th>\n",
       "      <td>2360.2188</td>\n",
       "      <td>185.54401</td>\n",
       "      <td>35.11601</td>\n",
       "      <td>3195.774867</td>\n",
       "    </tr>\n",
       "    <tr>\n",
       "      <th>...</th>\n",
       "      <td>...</td>\n",
       "      <td>...</td>\n",
       "      <td>...</td>\n",
       "      <td>...</td>\n",
       "    </tr>\n",
       "    <tr>\n",
       "      <th>29</th>\n",
       "      <td>2351.9892</td>\n",
       "      <td>191.78572</td>\n",
       "      <td>29.73282</td>\n",
       "      <td>2955.042919</td>\n",
       "    </tr>\n",
       "    <tr>\n",
       "      <th>28</th>\n",
       "      <td>2351.8368</td>\n",
       "      <td>191.49083</td>\n",
       "      <td>27.56636</td>\n",
       "      <td>2946.233842</td>\n",
       "    </tr>\n",
       "    <tr>\n",
       "      <th>27</th>\n",
       "      <td>2351.6844</td>\n",
       "      <td>191.05803</td>\n",
       "      <td>24.88940</td>\n",
       "      <td>2937.207363</td>\n",
       "    </tr>\n",
       "    <tr>\n",
       "      <th>26</th>\n",
       "      <td>2351.5320</td>\n",
       "      <td>190.44334</td>\n",
       "      <td>23.23398</td>\n",
       "      <td>2930.137279</td>\n",
       "    </tr>\n",
       "    <tr>\n",
       "      <th>25</th>\n",
       "      <td>2351.3796</td>\n",
       "      <td>189.61449</td>\n",
       "      <td>23.42513</td>\n",
       "      <td>2926.521273</td>\n",
       "    </tr>\n",
       "    <tr>\n",
       "      <th>24</th>\n",
       "      <td>2351.2272</td>\n",
       "      <td>188.88834</td>\n",
       "      <td>24.90669</td>\n",
       "      <td>2927.404123</td>\n",
       "    </tr>\n",
       "    <tr>\n",
       "      <th>23</th>\n",
       "      <td>2351.0748</td>\n",
       "      <td>188.61388</td>\n",
       "      <td>26.54791</td>\n",
       "      <td>2932.399250</td>\n",
       "    </tr>\n",
       "    <tr>\n",
       "      <th>22</th>\n",
       "      <td>2350.9224</td>\n",
       "      <td>188.75203</td>\n",
       "      <td>27.74703</td>\n",
       "      <td>2938.898677</td>\n",
       "    </tr>\n",
       "    <tr>\n",
       "      <th>21</th>\n",
       "      <td>2350.7700</td>\n",
       "      <td>189.08908</td>\n",
       "      <td>28.37271</td>\n",
       "      <td>2945.986099</td>\n",
       "    </tr>\n",
       "    <tr>\n",
       "      <th>20</th>\n",
       "      <td>2350.6176</td>\n",
       "      <td>189.54082</td>\n",
       "      <td>28.40231</td>\n",
       "      <td>2953.498675</td>\n",
       "    </tr>\n",
       "    <tr>\n",
       "      <th>19</th>\n",
       "      <td>2350.4652</td>\n",
       "      <td>190.07471</td>\n",
       "      <td>27.84958</td>\n",
       "      <td>2960.825021</td>\n",
       "    </tr>\n",
       "    <tr>\n",
       "      <th>18</th>\n",
       "      <td>2350.3128</td>\n",
       "      <td>190.54855</td>\n",
       "      <td>26.66750</td>\n",
       "      <td>2966.602364</td>\n",
       "    </tr>\n",
       "    <tr>\n",
       "      <th>17</th>\n",
       "      <td>2350.1604</td>\n",
       "      <td>190.83614</td>\n",
       "      <td>25.07940</td>\n",
       "      <td>2970.550616</td>\n",
       "    </tr>\n",
       "    <tr>\n",
       "      <th>16</th>\n",
       "      <td>2350.0080</td>\n",
       "      <td>191.01277</td>\n",
       "      <td>23.95144</td>\n",
       "      <td>2973.449090</td>\n",
       "    </tr>\n",
       "    <tr>\n",
       "      <th>15</th>\n",
       "      <td>2349.8556</td>\n",
       "      <td>191.19113</td>\n",
       "      <td>24.04277</td>\n",
       "      <td>2974.803183</td>\n",
       "    </tr>\n",
       "    <tr>\n",
       "      <th>14</th>\n",
       "      <td>2349.7032</td>\n",
       "      <td>191.29588</td>\n",
       "      <td>25.02611</td>\n",
       "      <td>2972.929081</td>\n",
       "    </tr>\n",
       "    <tr>\n",
       "      <th>13</th>\n",
       "      <td>2349.5508</td>\n",
       "      <td>191.15874</td>\n",
       "      <td>25.84706</td>\n",
       "      <td>2966.751072</td>\n",
       "    </tr>\n",
       "    <tr>\n",
       "      <th>12</th>\n",
       "      <td>2349.3984</td>\n",
       "      <td>190.65704</td>\n",
       "      <td>25.84985</td>\n",
       "      <td>2956.045409</td>\n",
       "    </tr>\n",
       "    <tr>\n",
       "      <th>11</th>\n",
       "      <td>2349.2460</td>\n",
       "      <td>189.83618</td>\n",
       "      <td>25.07602</td>\n",
       "      <td>2941.040816</td>\n",
       "    </tr>\n",
       "    <tr>\n",
       "      <th>10</th>\n",
       "      <td>2349.0936</td>\n",
       "      <td>189.04520</td>\n",
       "      <td>23.94993</td>\n",
       "      <td>2923.361601</td>\n",
       "    </tr>\n",
       "    <tr>\n",
       "      <th>9</th>\n",
       "      <td>2348.9412</td>\n",
       "      <td>188.61707</td>\n",
       "      <td>23.32273</td>\n",
       "      <td>2905.239716</td>\n",
       "    </tr>\n",
       "    <tr>\n",
       "      <th>8</th>\n",
       "      <td>2348.7888</td>\n",
       "      <td>188.49576</td>\n",
       "      <td>24.05538</td>\n",
       "      <td>2890.719425</td>\n",
       "    </tr>\n",
       "    <tr>\n",
       "      <th>7</th>\n",
       "      <td>2348.6364</td>\n",
       "      <td>188.49919</td>\n",
       "      <td>25.91761</td>\n",
       "      <td>2881.940295</td>\n",
       "    </tr>\n",
       "    <tr>\n",
       "      <th>6</th>\n",
       "      <td>2348.4840</td>\n",
       "      <td>188.68214</td>\n",
       "      <td>27.94748</td>\n",
       "      <td>2879.642562</td>\n",
       "    </tr>\n",
       "    <tr>\n",
       "      <th>5</th>\n",
       "      <td>2348.3316</td>\n",
       "      <td>189.11845</td>\n",
       "      <td>30.00695</td>\n",
       "      <td>2884.402188</td>\n",
       "    </tr>\n",
       "    <tr>\n",
       "      <th>4</th>\n",
       "      <td>2348.1792</td>\n",
       "      <td>189.55658</td>\n",
       "      <td>32.24901</td>\n",
       "      <td>2895.679443</td>\n",
       "    </tr>\n",
       "    <tr>\n",
       "      <th>3</th>\n",
       "      <td>2348.0268</td>\n",
       "      <td>189.72128</td>\n",
       "      <td>33.57746</td>\n",
       "      <td>2912.924487</td>\n",
       "    </tr>\n",
       "    <tr>\n",
       "      <th>2</th>\n",
       "      <td>2347.8744</td>\n",
       "      <td>189.73279</td>\n",
       "      <td>32.90793</td>\n",
       "      <td>2933.881119</td>\n",
       "    </tr>\n",
       "    <tr>\n",
       "      <th>1</th>\n",
       "      <td>2347.7220</td>\n",
       "      <td>189.83575</td>\n",
       "      <td>30.85096</td>\n",
       "      <td>2957.047718</td>\n",
       "    </tr>\n",
       "    <tr>\n",
       "      <th>0</th>\n",
       "      <td>2347.5696</td>\n",
       "      <td>190.01521</td>\n",
       "      <td>28.93231</td>\n",
       "      <td>2980.052712</td>\n",
       "    </tr>\n",
       "  </tbody>\n",
       "</table>\n",
       "<p>113 rows × 4 columns</p>\n",
       "</div>"
      ],
      "text/plain": [
       "       Depth.m     GR.API  NPHI.g/cm3       Vp.m/s\n",
       "112  2364.6384  187.76843    33.08551  3194.224574\n",
       "111  2364.4860  187.91135    35.81781  3214.005980\n",
       "110  2364.3336  187.98050    38.11759  3232.237540\n",
       "109  2364.1812  187.93697    38.71558  3250.080239\n",
       "108  2364.0288  188.28302    37.87635  3268.204774\n",
       "107  2363.8764  189.98587    36.57172  3286.518417\n",
       "106  2363.7240  192.31787    35.22094  3304.252013\n",
       "105  2363.5716  193.45839    33.77273  3320.438311\n",
       "104  2363.4192  193.35580    32.24812  3333.581237\n",
       "103  2363.2668  192.89314    30.74035  3342.160599\n",
       "102  2363.1144  192.40222    29.39163  3344.896711\n",
       "101  2362.9620  191.91211    28.50913  3342.567065\n",
       "100  2362.8096  191.42180    28.27339  3339.119826\n",
       "99   2362.6572  190.93056    28.34956  3336.084947\n",
       "98   2362.5048  190.43947    28.14225  3333.754792\n",
       "97   2362.3524  189.94928    27.38132  3332.819050\n",
       "96   2362.2000  189.45897    26.36285  3334.548781\n",
       "95   2362.0476  188.75601    25.55253  3339.436277\n",
       "94   2361.8952  187.40627    25.17605  3346.724624\n",
       "93   2361.7428  185.72670    25.37286  3354.822690\n",
       "92   2361.5904  184.58965    26.24999  3360.177269\n",
       "91   2361.4380  184.07959    27.67324  3360.135781\n",
       "90   2361.2856  183.77319    29.40431  3352.522344\n",
       "89   2361.1332  183.51131    31.19969  3337.021428\n",
       "88   2360.9808  183.43588    32.55012  3316.212263\n",
       "87   2360.8284  183.69888    32.97366  3292.079018\n",
       "86   2360.6760  184.22527    32.87470  3267.583577\n",
       "85   2360.5236  184.81670    33.24105  3243.540746\n",
       "84   2360.3712  185.29765    34.28257  3219.493059\n",
       "83   2360.2188  185.54401    35.11601  3195.774867\n",
       "..         ...        ...         ...          ...\n",
       "29   2351.9892  191.78572    29.73282  2955.042919\n",
       "28   2351.8368  191.49083    27.56636  2946.233842\n",
       "27   2351.6844  191.05803    24.88940  2937.207363\n",
       "26   2351.5320  190.44334    23.23398  2930.137279\n",
       "25   2351.3796  189.61449    23.42513  2926.521273\n",
       "24   2351.2272  188.88834    24.90669  2927.404123\n",
       "23   2351.0748  188.61388    26.54791  2932.399250\n",
       "22   2350.9224  188.75203    27.74703  2938.898677\n",
       "21   2350.7700  189.08908    28.37271  2945.986099\n",
       "20   2350.6176  189.54082    28.40231  2953.498675\n",
       "19   2350.4652  190.07471    27.84958  2960.825021\n",
       "18   2350.3128  190.54855    26.66750  2966.602364\n",
       "17   2350.1604  190.83614    25.07940  2970.550616\n",
       "16   2350.0080  191.01277    23.95144  2973.449090\n",
       "15   2349.8556  191.19113    24.04277  2974.803183\n",
       "14   2349.7032  191.29588    25.02611  2972.929081\n",
       "13   2349.5508  191.15874    25.84706  2966.751072\n",
       "12   2349.3984  190.65704    25.84985  2956.045409\n",
       "11   2349.2460  189.83618    25.07602  2941.040816\n",
       "10   2349.0936  189.04520    23.94993  2923.361601\n",
       "9    2348.9412  188.61707    23.32273  2905.239716\n",
       "8    2348.7888  188.49576    24.05538  2890.719425\n",
       "7    2348.6364  188.49919    25.91761  2881.940295\n",
       "6    2348.4840  188.68214    27.94748  2879.642562\n",
       "5    2348.3316  189.11845    30.00695  2884.402188\n",
       "4    2348.1792  189.55658    32.24901  2895.679443\n",
       "3    2348.0268  189.72128    33.57746  2912.924487\n",
       "2    2347.8744  189.73279    32.90793  2933.881119\n",
       "1    2347.7220  189.83575    30.85096  2957.047718\n",
       "0    2347.5696  190.01521    28.93231  2980.052712\n",
       "\n",
       "[113 rows x 4 columns]"
      ]
     },
     "execution_count": 57,
     "metadata": {},
     "output_type": "execute_result"
    }
   ],
   "source": [
    "welldata.sort_values(by='Depth.m', ascending=False) # By descending depth"
   ]
  },
  {
   "cell_type": "code",
   "execution_count": 58,
   "metadata": {
    "scrolled": true
   },
   "outputs": [
    {
     "data": {
      "text/html": [
       "<div>\n",
       "<style scoped>\n",
       "    .dataframe tbody tr th:only-of-type {\n",
       "        vertical-align: middle;\n",
       "    }\n",
       "\n",
       "    .dataframe tbody tr th {\n",
       "        vertical-align: top;\n",
       "    }\n",
       "\n",
       "    .dataframe thead th {\n",
       "        text-align: right;\n",
       "    }\n",
       "</style>\n",
       "<table border=\"1\" class=\"dataframe\">\n",
       "  <thead>\n",
       "    <tr style=\"text-align: right;\">\n",
       "      <th></th>\n",
       "      <th>Depth.m</th>\n",
       "      <th>GR.API</th>\n",
       "      <th>NPHI.g/cm3</th>\n",
       "      <th>Vp.m/s</th>\n",
       "    </tr>\n",
       "  </thead>\n",
       "  <tbody>\n",
       "    <tr>\n",
       "      <th>76</th>\n",
       "      <td>2359.1520</td>\n",
       "      <td>181.74869</td>\n",
       "      <td>40.99208</td>\n",
       "      <td>3090.721811</td>\n",
       "    </tr>\n",
       "    <tr>\n",
       "      <th>75</th>\n",
       "      <td>2358.9996</td>\n",
       "      <td>181.79831</td>\n",
       "      <td>41.56713</td>\n",
       "      <td>3082.082282</td>\n",
       "    </tr>\n",
       "    <tr>\n",
       "      <th>77</th>\n",
       "      <td>2359.3044</td>\n",
       "      <td>182.06990</td>\n",
       "      <td>39.80087</td>\n",
       "      <td>3099.051292</td>\n",
       "    </tr>\n",
       "    <tr>\n",
       "      <th>74</th>\n",
       "      <td>2358.8472</td>\n",
       "      <td>182.18379</td>\n",
       "      <td>41.71010</td>\n",
       "      <td>3072.726847</td>\n",
       "    </tr>\n",
       "    <tr>\n",
       "      <th>78</th>\n",
       "      <td>2359.4568</td>\n",
       "      <td>182.70082</td>\n",
       "      <td>37.54532</td>\n",
       "      <td>3108.120055</td>\n",
       "    </tr>\n",
       "    <tr>\n",
       "      <th>73</th>\n",
       "      <td>2358.6948</td>\n",
       "      <td>182.80040</td>\n",
       "      <td>40.35450</td>\n",
       "      <td>3062.625568</td>\n",
       "    </tr>\n",
       "    <tr>\n",
       "      <th>88</th>\n",
       "      <td>2360.9808</td>\n",
       "      <td>183.43588</td>\n",
       "      <td>32.55012</td>\n",
       "      <td>3316.212263</td>\n",
       "    </tr>\n",
       "    <tr>\n",
       "      <th>72</th>\n",
       "      <td>2358.5424</td>\n",
       "      <td>183.48291</td>\n",
       "      <td>36.85666</td>\n",
       "      <td>3052.255760</td>\n",
       "    </tr>\n",
       "    <tr>\n",
       "      <th>89</th>\n",
       "      <td>2361.1332</td>\n",
       "      <td>183.51131</td>\n",
       "      <td>31.19969</td>\n",
       "      <td>3337.021428</td>\n",
       "    </tr>\n",
       "    <tr>\n",
       "      <th>79</th>\n",
       "      <td>2359.6092</td>\n",
       "      <td>183.51541</td>\n",
       "      <td>34.77052</td>\n",
       "      <td>3120.198907</td>\n",
       "    </tr>\n",
       "    <tr>\n",
       "      <th>87</th>\n",
       "      <td>2360.8284</td>\n",
       "      <td>183.69888</td>\n",
       "      <td>32.97366</td>\n",
       "      <td>3292.079018</td>\n",
       "    </tr>\n",
       "    <tr>\n",
       "      <th>90</th>\n",
       "      <td>2361.2856</td>\n",
       "      <td>183.77319</td>\n",
       "      <td>29.40431</td>\n",
       "      <td>3352.522344</td>\n",
       "    </tr>\n",
       "    <tr>\n",
       "      <th>71</th>\n",
       "      <td>2358.3900</td>\n",
       "      <td>184.07182</td>\n",
       "      <td>32.66726</td>\n",
       "      <td>3042.266241</td>\n",
       "    </tr>\n",
       "    <tr>\n",
       "      <th>91</th>\n",
       "      <td>2361.4380</td>\n",
       "      <td>184.07959</td>\n",
       "      <td>27.67324</td>\n",
       "      <td>3360.135781</td>\n",
       "    </tr>\n",
       "    <tr>\n",
       "      <th>86</th>\n",
       "      <td>2360.6760</td>\n",
       "      <td>184.22527</td>\n",
       "      <td>32.87470</td>\n",
       "      <td>3267.583577</td>\n",
       "    </tr>\n",
       "    <tr>\n",
       "      <th>80</th>\n",
       "      <td>2359.7616</td>\n",
       "      <td>184.35390</td>\n",
       "      <td>33.04517</td>\n",
       "      <td>3135.692784</td>\n",
       "    </tr>\n",
       "    <tr>\n",
       "      <th>70</th>\n",
       "      <td>2358.2376</td>\n",
       "      <td>184.47496</td>\n",
       "      <td>29.67586</td>\n",
       "      <td>3033.822341</td>\n",
       "    </tr>\n",
       "    <tr>\n",
       "      <th>92</th>\n",
       "      <td>2361.5904</td>\n",
       "      <td>184.58965</td>\n",
       "      <td>26.24999</td>\n",
       "      <td>3360.177269</td>\n",
       "    </tr>\n",
       "    <tr>\n",
       "      <th>69</th>\n",
       "      <td>2358.0852</td>\n",
       "      <td>184.69714</td>\n",
       "      <td>28.45860</td>\n",
       "      <td>3027.940801</td>\n",
       "    </tr>\n",
       "    <tr>\n",
       "      <th>85</th>\n",
       "      <td>2360.5236</td>\n",
       "      <td>184.81670</td>\n",
       "      <td>33.24105</td>\n",
       "      <td>3243.540746</td>\n",
       "    </tr>\n",
       "    <tr>\n",
       "      <th>68</th>\n",
       "      <td>2357.9328</td>\n",
       "      <td>184.88324</td>\n",
       "      <td>28.77897</td>\n",
       "      <td>3025.759758</td>\n",
       "    </tr>\n",
       "    <tr>\n",
       "      <th>81</th>\n",
       "      <td>2359.9140</td>\n",
       "      <td>185.05014</td>\n",
       "      <td>33.40653</td>\n",
       "      <td>3153.685358</td>\n",
       "    </tr>\n",
       "    <tr>\n",
       "      <th>67</th>\n",
       "      <td>2357.7804</td>\n",
       "      <td>185.17111</td>\n",
       "      <td>30.16739</td>\n",
       "      <td>3028.509723</td>\n",
       "    </tr>\n",
       "    <tr>\n",
       "      <th>84</th>\n",
       "      <td>2360.3712</td>\n",
       "      <td>185.29765</td>\n",
       "      <td>34.28257</td>\n",
       "      <td>3219.493059</td>\n",
       "    </tr>\n",
       "    <tr>\n",
       "      <th>82</th>\n",
       "      <td>2360.0664</td>\n",
       "      <td>185.47055</td>\n",
       "      <td>34.72438</td>\n",
       "      <td>3173.661773</td>\n",
       "    </tr>\n",
       "    <tr>\n",
       "      <th>66</th>\n",
       "      <td>2357.6280</td>\n",
       "      <td>185.51990</td>\n",
       "      <td>31.70642</td>\n",
       "      <td>3037.306555</td>\n",
       "    </tr>\n",
       "    <tr>\n",
       "      <th>83</th>\n",
       "      <td>2360.2188</td>\n",
       "      <td>185.54401</td>\n",
       "      <td>35.11601</td>\n",
       "      <td>3195.774867</td>\n",
       "    </tr>\n",
       "    <tr>\n",
       "      <th>93</th>\n",
       "      <td>2361.7428</td>\n",
       "      <td>185.72670</td>\n",
       "      <td>25.37286</td>\n",
       "      <td>3354.822690</td>\n",
       "    </tr>\n",
       "    <tr>\n",
       "      <th>65</th>\n",
       "      <td>2357.4756</td>\n",
       "      <td>185.82033</td>\n",
       "      <td>32.26929</td>\n",
       "      <td>3052.692599</td>\n",
       "    </tr>\n",
       "    <tr>\n",
       "      <th>55</th>\n",
       "      <td>2355.9516</td>\n",
       "      <td>185.90640</td>\n",
       "      <td>36.67843</td>\n",
       "      <td>3168.258211</td>\n",
       "    </tr>\n",
       "    <tr>\n",
       "      <th>...</th>\n",
       "      <td>...</td>\n",
       "      <td>...</td>\n",
       "      <td>...</td>\n",
       "      <td>...</td>\n",
       "    </tr>\n",
       "    <tr>\n",
       "      <th>36</th>\n",
       "      <td>2353.0560</td>\n",
       "      <td>190.96724</td>\n",
       "      <td>26.55124</td>\n",
       "      <td>2954.737550</td>\n",
       "    </tr>\n",
       "    <tr>\n",
       "      <th>16</th>\n",
       "      <td>2350.0080</td>\n",
       "      <td>191.01277</td>\n",
       "      <td>23.95144</td>\n",
       "      <td>2973.449090</td>\n",
       "    </tr>\n",
       "    <tr>\n",
       "      <th>27</th>\n",
       "      <td>2351.6844</td>\n",
       "      <td>191.05803</td>\n",
       "      <td>24.88940</td>\n",
       "      <td>2937.207363</td>\n",
       "    </tr>\n",
       "    <tr>\n",
       "      <th>13</th>\n",
       "      <td>2349.5508</td>\n",
       "      <td>191.15874</td>\n",
       "      <td>25.84706</td>\n",
       "      <td>2966.751072</td>\n",
       "    </tr>\n",
       "    <tr>\n",
       "      <th>15</th>\n",
       "      <td>2349.8556</td>\n",
       "      <td>191.19113</td>\n",
       "      <td>24.04277</td>\n",
       "      <td>2974.803183</td>\n",
       "    </tr>\n",
       "    <tr>\n",
       "      <th>31</th>\n",
       "      <td>2352.2940</td>\n",
       "      <td>191.28954</td>\n",
       "      <td>30.04073</td>\n",
       "      <td>2967.813536</td>\n",
       "    </tr>\n",
       "    <tr>\n",
       "      <th>14</th>\n",
       "      <td>2349.7032</td>\n",
       "      <td>191.29588</td>\n",
       "      <td>25.02611</td>\n",
       "      <td>2972.929081</td>\n",
       "    </tr>\n",
       "    <tr>\n",
       "      <th>100</th>\n",
       "      <td>2362.8096</td>\n",
       "      <td>191.42180</td>\n",
       "      <td>28.27339</td>\n",
       "      <td>3339.119826</td>\n",
       "    </tr>\n",
       "    <tr>\n",
       "      <th>28</th>\n",
       "      <td>2351.8368</td>\n",
       "      <td>191.49083</td>\n",
       "      <td>27.56636</td>\n",
       "      <td>2946.233842</td>\n",
       "    </tr>\n",
       "    <tr>\n",
       "      <th>30</th>\n",
       "      <td>2352.1416</td>\n",
       "      <td>191.76706</td>\n",
       "      <td>30.44812</td>\n",
       "      <td>2962.515144</td>\n",
       "    </tr>\n",
       "    <tr>\n",
       "      <th>49</th>\n",
       "      <td>2355.0372</td>\n",
       "      <td>191.78442</td>\n",
       "      <td>24.43353</td>\n",
       "      <td>2965.090149</td>\n",
       "    </tr>\n",
       "    <tr>\n",
       "      <th>29</th>\n",
       "      <td>2351.9892</td>\n",
       "      <td>191.78572</td>\n",
       "      <td>29.73282</td>\n",
       "      <td>2955.042919</td>\n",
       "    </tr>\n",
       "    <tr>\n",
       "      <th>101</th>\n",
       "      <td>2362.9620</td>\n",
       "      <td>191.91211</td>\n",
       "      <td>28.50913</td>\n",
       "      <td>3342.567065</td>\n",
       "    </tr>\n",
       "    <tr>\n",
       "      <th>106</th>\n",
       "      <td>2363.7240</td>\n",
       "      <td>192.31787</td>\n",
       "      <td>35.22094</td>\n",
       "      <td>3304.252013</td>\n",
       "    </tr>\n",
       "    <tr>\n",
       "      <th>102</th>\n",
       "      <td>2363.1144</td>\n",
       "      <td>192.40222</td>\n",
       "      <td>29.39163</td>\n",
       "      <td>3344.896711</td>\n",
       "    </tr>\n",
       "    <tr>\n",
       "      <th>103</th>\n",
       "      <td>2363.2668</td>\n",
       "      <td>192.89314</td>\n",
       "      <td>30.74035</td>\n",
       "      <td>3342.160599</td>\n",
       "    </tr>\n",
       "    <tr>\n",
       "      <th>104</th>\n",
       "      <td>2363.4192</td>\n",
       "      <td>193.35580</td>\n",
       "      <td>32.24812</td>\n",
       "      <td>3333.581237</td>\n",
       "    </tr>\n",
       "    <tr>\n",
       "      <th>105</th>\n",
       "      <td>2363.5716</td>\n",
       "      <td>193.45839</td>\n",
       "      <td>33.77273</td>\n",
       "      <td>3320.438311</td>\n",
       "    </tr>\n",
       "    <tr>\n",
       "      <th>37</th>\n",
       "      <td>2353.2084</td>\n",
       "      <td>193.69543</td>\n",
       "      <td>26.26301</td>\n",
       "      <td>2947.766791</td>\n",
       "    </tr>\n",
       "    <tr>\n",
       "      <th>48</th>\n",
       "      <td>2354.8848</td>\n",
       "      <td>193.97426</td>\n",
       "      <td>22.38381</td>\n",
       "      <td>2942.420935</td>\n",
       "    </tr>\n",
       "    <tr>\n",
       "      <th>47</th>\n",
       "      <td>2354.7324</td>\n",
       "      <td>196.58293</td>\n",
       "      <td>21.06781</td>\n",
       "      <td>2928.666223</td>\n",
       "    </tr>\n",
       "    <tr>\n",
       "      <th>38</th>\n",
       "      <td>2353.3608</td>\n",
       "      <td>197.92220</td>\n",
       "      <td>25.66202</td>\n",
       "      <td>2941.237775</td>\n",
       "    </tr>\n",
       "    <tr>\n",
       "      <th>46</th>\n",
       "      <td>2354.5800</td>\n",
       "      <td>200.12679</td>\n",
       "      <td>20.37152</td>\n",
       "      <td>2919.701317</td>\n",
       "    </tr>\n",
       "    <tr>\n",
       "      <th>39</th>\n",
       "      <td>2353.5132</td>\n",
       "      <td>203.15764</td>\n",
       "      <td>24.51670</td>\n",
       "      <td>2935.084652</td>\n",
       "    </tr>\n",
       "    <tr>\n",
       "      <th>45</th>\n",
       "      <td>2354.4276</td>\n",
       "      <td>204.71420</td>\n",
       "      <td>19.95290</td>\n",
       "      <td>2914.638110</td>\n",
       "    </tr>\n",
       "    <tr>\n",
       "      <th>40</th>\n",
       "      <td>2353.6656</td>\n",
       "      <td>207.83069</td>\n",
       "      <td>23.04088</td>\n",
       "      <td>2929.447599</td>\n",
       "    </tr>\n",
       "    <tr>\n",
       "      <th>44</th>\n",
       "      <td>2354.2752</td>\n",
       "      <td>208.98866</td>\n",
       "      <td>19.72984</td>\n",
       "      <td>2914.052656</td>\n",
       "    </tr>\n",
       "    <tr>\n",
       "      <th>41</th>\n",
       "      <td>2353.8180</td>\n",
       "      <td>210.68880</td>\n",
       "      <td>21.65333</td>\n",
       "      <td>2924.856521</td>\n",
       "    </tr>\n",
       "    <tr>\n",
       "      <th>43</th>\n",
       "      <td>2354.1228</td>\n",
       "      <td>211.40277</td>\n",
       "      <td>19.90673</td>\n",
       "      <td>2917.236060</td>\n",
       "    </tr>\n",
       "    <tr>\n",
       "      <th>42</th>\n",
       "      <td>2353.9704</td>\n",
       "      <td>211.81770</td>\n",
       "      <td>20.57562</td>\n",
       "      <td>2921.086671</td>\n",
       "    </tr>\n",
       "  </tbody>\n",
       "</table>\n",
       "<p>113 rows × 4 columns</p>\n",
       "</div>"
      ],
      "text/plain": [
       "       Depth.m     GR.API  NPHI.g/cm3       Vp.m/s\n",
       "76   2359.1520  181.74869    40.99208  3090.721811\n",
       "75   2358.9996  181.79831    41.56713  3082.082282\n",
       "77   2359.3044  182.06990    39.80087  3099.051292\n",
       "74   2358.8472  182.18379    41.71010  3072.726847\n",
       "78   2359.4568  182.70082    37.54532  3108.120055\n",
       "73   2358.6948  182.80040    40.35450  3062.625568\n",
       "88   2360.9808  183.43588    32.55012  3316.212263\n",
       "72   2358.5424  183.48291    36.85666  3052.255760\n",
       "89   2361.1332  183.51131    31.19969  3337.021428\n",
       "79   2359.6092  183.51541    34.77052  3120.198907\n",
       "87   2360.8284  183.69888    32.97366  3292.079018\n",
       "90   2361.2856  183.77319    29.40431  3352.522344\n",
       "71   2358.3900  184.07182    32.66726  3042.266241\n",
       "91   2361.4380  184.07959    27.67324  3360.135781\n",
       "86   2360.6760  184.22527    32.87470  3267.583577\n",
       "80   2359.7616  184.35390    33.04517  3135.692784\n",
       "70   2358.2376  184.47496    29.67586  3033.822341\n",
       "92   2361.5904  184.58965    26.24999  3360.177269\n",
       "69   2358.0852  184.69714    28.45860  3027.940801\n",
       "85   2360.5236  184.81670    33.24105  3243.540746\n",
       "68   2357.9328  184.88324    28.77897  3025.759758\n",
       "81   2359.9140  185.05014    33.40653  3153.685358\n",
       "67   2357.7804  185.17111    30.16739  3028.509723\n",
       "84   2360.3712  185.29765    34.28257  3219.493059\n",
       "82   2360.0664  185.47055    34.72438  3173.661773\n",
       "66   2357.6280  185.51990    31.70642  3037.306555\n",
       "83   2360.2188  185.54401    35.11601  3195.774867\n",
       "93   2361.7428  185.72670    25.37286  3354.822690\n",
       "65   2357.4756  185.82033    32.26929  3052.692599\n",
       "55   2355.9516  185.90640    36.67843  3168.258211\n",
       "..         ...        ...         ...          ...\n",
       "36   2353.0560  190.96724    26.55124  2954.737550\n",
       "16   2350.0080  191.01277    23.95144  2973.449090\n",
       "27   2351.6844  191.05803    24.88940  2937.207363\n",
       "13   2349.5508  191.15874    25.84706  2966.751072\n",
       "15   2349.8556  191.19113    24.04277  2974.803183\n",
       "31   2352.2940  191.28954    30.04073  2967.813536\n",
       "14   2349.7032  191.29588    25.02611  2972.929081\n",
       "100  2362.8096  191.42180    28.27339  3339.119826\n",
       "28   2351.8368  191.49083    27.56636  2946.233842\n",
       "30   2352.1416  191.76706    30.44812  2962.515144\n",
       "49   2355.0372  191.78442    24.43353  2965.090149\n",
       "29   2351.9892  191.78572    29.73282  2955.042919\n",
       "101  2362.9620  191.91211    28.50913  3342.567065\n",
       "106  2363.7240  192.31787    35.22094  3304.252013\n",
       "102  2363.1144  192.40222    29.39163  3344.896711\n",
       "103  2363.2668  192.89314    30.74035  3342.160599\n",
       "104  2363.4192  193.35580    32.24812  3333.581237\n",
       "105  2363.5716  193.45839    33.77273  3320.438311\n",
       "37   2353.2084  193.69543    26.26301  2947.766791\n",
       "48   2354.8848  193.97426    22.38381  2942.420935\n",
       "47   2354.7324  196.58293    21.06781  2928.666223\n",
       "38   2353.3608  197.92220    25.66202  2941.237775\n",
       "46   2354.5800  200.12679    20.37152  2919.701317\n",
       "39   2353.5132  203.15764    24.51670  2935.084652\n",
       "45   2354.4276  204.71420    19.95290  2914.638110\n",
       "40   2353.6656  207.83069    23.04088  2929.447599\n",
       "44   2354.2752  208.98866    19.72984  2914.052656\n",
       "41   2353.8180  210.68880    21.65333  2924.856521\n",
       "43   2354.1228  211.40277    19.90673  2917.236060\n",
       "42   2353.9704  211.81770    20.57562  2921.086671\n",
       "\n",
       "[113 rows x 4 columns]"
      ]
     },
     "execution_count": 58,
     "metadata": {},
     "output_type": "execute_result"
    }
   ],
   "source": [
    "welldata.sort_values(by='GR.API', ascending=True) # By ascending gamma ray"
   ]
  },
  {
   "cell_type": "markdown",
   "metadata": {},
   "source": [
    "Simple statistics "
   ]
  },
  {
   "cell_type": "code",
   "execution_count": 59,
   "metadata": {},
   "outputs": [
    {
     "data": {
      "text/plain": [
       "211.8177"
      ]
     },
     "execution_count": 59,
     "metadata": {},
     "output_type": "execute_result"
    }
   ],
   "source": [
    "welldata['GR.API'].max()"
   ]
  },
  {
   "cell_type": "code",
   "execution_count": 60,
   "metadata": {},
   "outputs": [
    {
     "data": {
      "text/plain": [
       "181.74868999999998"
      ]
     },
     "execution_count": 60,
     "metadata": {},
     "output_type": "execute_result"
    }
   ],
   "source": [
    "welldata['GR.API'].min()"
   ]
  },
  {
   "cell_type": "code",
   "execution_count": 61,
   "metadata": {},
   "outputs": [
    {
     "data": {
      "text/plain": [
       "189.53761495575222"
      ]
     },
     "execution_count": 61,
     "metadata": {},
     "output_type": "execute_result"
    }
   ],
   "source": [
    "welldata['GR.API'].mean()"
   ]
  },
  {
   "cell_type": "code",
   "execution_count": 62,
   "metadata": {},
   "outputs": [
    {
     "data": {
      "text/plain": [
       "5.966543937553879"
      ]
     },
     "execution_count": 62,
     "metadata": {},
     "output_type": "execute_result"
    }
   ],
   "source": [
    "welldata['GR.API'].std()"
   ]
  },
  {
   "cell_type": "markdown",
   "metadata": {},
   "source": [
    "Save final dataframe to excel"
   ]
  },
  {
   "cell_type": "code",
   "execution_count": 63,
   "metadata": {},
   "outputs": [],
   "source": [
    "welldata.to_excel('DataClub_S4_Sample_Data_edited.xlsx', index=False) # With index=False you don't include the index"
   ]
  }
 ],
 "metadata": {
  "kernelspec": {
   "display_name": "Python 3",
   "language": "python",
   "name": "python3"
  },
  "language_info": {
   "codemirror_mode": {
    "name": "ipython",
    "version": 3
   },
   "file_extension": ".py",
   "mimetype": "text/x-python",
   "name": "python",
   "nbconvert_exporter": "python",
   "pygments_lexer": "ipython3",
   "version": "3.6.8"
  }
 },
 "nbformat": 4,
 "nbformat_minor": 2
}
